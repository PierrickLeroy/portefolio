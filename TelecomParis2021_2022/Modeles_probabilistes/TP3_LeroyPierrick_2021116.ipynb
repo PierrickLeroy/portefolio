{
 "cells": [
  {
   "cell_type": "code",
   "execution_count": 86,
   "id": "9f1807b3",
   "metadata": {},
   "outputs": [],
   "source": [
    "import numpy as np\n",
    "import matplotlib.pyplot as plt\n",
    "import sys\n",
    "import pandas as pd\n",
    "import math\n",
    "import itertools"
   ]
  },
  {
   "cell_type": "markdown",
   "id": "3366a5b6",
   "metadata": {},
   "source": [
    "## Exercice : 1 Classification de texte avec le modèle Naive Bayes"
   ]
  },
  {
   "cell_type": "code",
   "execution_count": 2,
   "id": "bf71579e",
   "metadata": {},
   "outputs": [],
   "source": [
    "from load_ag_news import load_ag_news\n",
    "train_set, test_set = load_ag_news()"
   ]
  },
  {
   "cell_type": "code",
   "execution_count": 3,
   "id": "2a67bc72",
   "metadata": {},
   "outputs": [],
   "source": [
    "l = np.unique(np.array([x[0] for x in train_set]), return_counts=True)\n",
    "def pi(i) :\n",
    "    N = l[1].sum()\n",
    "    Ni = l[1][l[0] == i].sum()\n",
    "    return Ni/N"
   ]
  },
  {
   "cell_type": "code",
   "execution_count": 4,
   "id": "f5b0b937",
   "metadata": {},
   "outputs": [
    {
     "name": "stdout",
     "output_type": "stream",
     "text": [
      "12.1 µs ± 562 ns per loop (mean ± std. dev. of 7 runs, 100000 loops each)\n"
     ]
    }
   ],
   "source": [
    "%timeit pi(1)"
   ]
  },
  {
   "cell_type": "code",
   "execution_count": 5,
   "id": "28f007f9",
   "metadata": {},
   "outputs": [],
   "source": [
    "d = {}\n",
    "\n",
    "# Première boucle pour initialiser les valeurs des classes\n",
    "for X, Y in train_set :\n",
    "    if X in d:\n",
    "        pass\n",
    "    else:\n",
    "        d[X]={}\n",
    "        \n",
    "for X, Y in train_set:\n",
    "    for y in Y :\n",
    "        if not(y in d[X]):\n",
    "            d[X][y] = 1\n",
    "        else :\n",
    "            d[X][y] += 1\n",
    "\n",
    "for k in d:\n",
    "    s = sum(d[k].values())\n",
    "    for word in d[k]:\n",
    "        d[k][word] = d[k][word] / s\n",
    "\n",
    "def b(i, yt):\n",
    "    return d[i].get(yt, 0)"
   ]
  },
  {
   "cell_type": "code",
   "execution_count": 6,
   "id": "7b6180cf",
   "metadata": {},
   "outputs": [
    {
     "name": "stdout",
     "output_type": "stream",
     "text": [
      "0.25\n",
      "0.00018036294574312617\n"
     ]
    }
   ],
   "source": [
    "print(pi(1))\n",
    "print(b(1, \"London\")) # Tout à fait exact"
   ]
  },
  {
   "cell_type": "code",
   "execution_count": 7,
   "id": "5f3ddbe0",
   "metadata": {},
   "outputs": [],
   "source": [
    "# Les versions classiques du Naive Bayes \n",
    "\n",
    "def p_i_s(i, s):\n",
    "    \"\"\"\n",
    "    Return:\n",
    "        - Probabilité que s appartienne à la classe i\n",
    "    \"\"\"\n",
    "    e = 1e-5\n",
    "    # Définition d'une fonction calculant la probabilité non normalisée que s appartiennent à la classe i\n",
    "    def aux(i, s):\n",
    "        p = pi(i)\n",
    "        for word in s:\n",
    "            p = p * (b(i, word) + e)\n",
    "        return p\n",
    "\n",
    "    den = 0\n",
    "    for key in d:\n",
    "        den += aux(key, s)\n",
    "    \n",
    "    return aux(i,s) / den # NB : pas utile de diviser car on compare les valeurs entre elles et x1 > x2 => x1/den > x2/den\n",
    "\n",
    "def naive_bayes(s):\n",
    "    \"\"\"\n",
    "    Prédit la classe de la phrase s\n",
    "    Return\n",
    "        Une classe de texte : 1, 2, 3 ou 4\n",
    "    \"\"\"\n",
    "    d_res = {}\n",
    "    for key in d:\n",
    "        d_res[key] = p_i_s(key, s)\n",
    "    return d_res, max(d_res, key = lambda x : d_res[x]) # On renvoie la valeur de la clé pour laquelle la probabilité est maximale\n",
    "               "
   ]
  },
  {
   "cell_type": "code",
   "execution_count": 16,
   "id": "c29cece4",
   "metadata": {},
   "outputs": [],
   "source": [
    "# Les versions log du Naive Bayes \n",
    "\n",
    "def aux_log(i, s, e):\n",
    "    \"\"\"\n",
    "    Définition d'une fonction calculant la probabilité non normalisée que s appartiennent à la classe i\n",
    "    avec un facteur de lissage e\n",
    "    \"\"\"\n",
    "    \n",
    "    p = np.log(pi(i))\n",
    "    for word in s:\n",
    "        p = p +(np.log(b(i, word) + e))\n",
    "    return p\n",
    "\n",
    "def p_i_s_log(i, s, e= 10e-5):\n",
    "    \"\"\"\n",
    "    Return:\n",
    "        - Probabilité (non normalisée) que s appartienne à la classe i\n",
    "    \"\"\"\n",
    "\n",
    "    return aux_log(i,s, e) # NB : pas utile de diviser car on compare les valeurs entre elles et x1 > x2 => x1/den > x2/den\n",
    "\n",
    "def naive_bayes_log(s, e= 10e-5):\n",
    "    \"\"\"\n",
    "    Prédit la classe de la phrase s\n",
    "    Return\n",
    "        Une classe de texte : 1, 2, 3 ou 4\n",
    "    \"\"\"\n",
    "    d_res = {}\n",
    "    for key in [0,1,2,3]:\n",
    "        d_res[key] = p_i_s_log(key, s, e)\n",
    "    return max(d_res, key = lambda x : d_res[x]) # On renvoie la valeur de la clé pour laquelle la probabilité est maximale\n",
    "                "
   ]
  },
  {
   "cell_type": "code",
   "execution_count": 17,
   "id": "b5f9591c",
   "metadata": {
    "scrolled": false
   },
   "outputs": [
    {
     "data": {
      "text/plain": [
       "({2: 0.0007448195290411271,\n",
       "  3: 0.003928390804006227,\n",
       "  1: 0.9924989725858532,\n",
       "  0: 0.0028278170810995774},\n",
       " 1)"
      ]
     },
     "execution_count": 17,
     "metadata": {},
     "output_type": "execute_result"
    }
   ],
   "source": [
    "# Phrase à prédire\n",
    "naive_bayes(['Arsenal', 'is', 'a', 'londonian', 'team','.']) # Oui"
   ]
  },
  {
   "cell_type": "code",
   "execution_count": 10,
   "id": "a2868d9b",
   "metadata": {},
   "outputs": [],
   "source": [
    "# Prédiction sur l'ensemble du corpus\n",
    "df_ag_test = pd.DataFrame(test_set, columns = ['classe', 'text']) # passage en dataframe pour calculer plus vite vectoriellement"
   ]
  },
  {
   "cell_type": "code",
   "execution_count": 11,
   "id": "d94e1b25",
   "metadata": {
    "scrolled": true
   },
   "outputs": [],
   "source": [
    "def exactitude(a1, a2):\n",
    "    return (a1==a2).sum()/len(a1)"
   ]
  },
  {
   "cell_type": "code",
   "execution_count": 14,
   "id": "00efaf1d",
   "metadata": {},
   "outputs": [
    {
     "name": "stdout",
     "output_type": "stream",
     "text": [
      "Score pour e = 1e-20 0.8821\n",
      "Score pour e = 1e-10 0.9011\n",
      "Score pour e = 1e-05 0.8941\n",
      "Score pour e = 1 0.4909\n",
      "Wall time: 8.3 s\n"
     ]
    }
   ],
   "source": [
    "%%time\n",
    "for e in [1e-20,1e-10, 1e-5, 1]:\n",
    "    score = exactitude(df_ag_test['text'].apply(lambda x : naive_bayes_log(x, e)), df_ag_test[\"classe\"])\n",
    "    print(f'Score pour e = {e}', np.round(score, 4))"
   ]
  },
  {
   "cell_type": "markdown",
   "id": "88e3febb",
   "metadata": {},
   "source": [
    "Sur les résultats demandés, plus e est petit meilleur est le résultat.\n",
    "Il existe probablement un e* pour lequel le score est minimum avec e*>0. (c'est à dire qu'il y a une borne pour laquelle le score n'augmente plus en rapprochant e de 0)"
   ]
  },
  {
   "cell_type": "markdown",
   "id": "c641dbdf",
   "metadata": {},
   "source": [
    "## Exercice : 2 Etiquetage morpho-syntaxique avec CMC"
   ]
  },
  {
   "cell_type": "code",
   "execution_count": 2,
   "id": "8d081208",
   "metadata": {},
   "outputs": [],
   "source": [
    "from load_conll2000 import load_conll2000"
   ]
  },
  {
   "cell_type": "code",
   "execution_count": 3,
   "id": "725edcfe",
   "metadata": {},
   "outputs": [],
   "source": [
    "path = r'C:\\Users\\Pierrick\\OneDrive\\Bureau\\K\\2_MS_TelecomParis\\Cours\\IA702 - Modèles probabilistes et apprentissage automatique\\TP3\\TP3 functions-20211020\\TP3_functions\\\\'\n",
    "train_set, test_set = load_conll2000(path)"
   ]
  },
  {
   "cell_type": "markdown",
   "id": "e51f42f5",
   "metadata": {},
   "source": [
    "##### Estimation des paramètres :  pi(i), a_j(i) et b_i(y)"
   ]
  },
  {
   "cell_type": "code",
   "execution_count": 4,
   "id": "3efaa83d",
   "metadata": {},
   "outputs": [],
   "source": [
    "# Récupération des classes en présence dans train_set\n",
    "l_classes = []\n",
    "for x in train_set:\n",
    "    for pair in x:\n",
    "        l_classes.append(pair[0])\n",
    "l_classes = np.array(l_classes)"
   ]
  },
  {
   "cell_type": "code",
   "execution_count": 5,
   "id": "db97adac",
   "metadata": {
    "scrolled": true
   },
   "outputs": [],
   "source": [
    "a = np.unique(l_classes, return_counts = True)\n",
    "d = dict(zip(a[0],a[1]))\n",
    "N = sum(d.values())\n",
    "for key in d :\n",
    "    d[key] = {'nb' : d[key], 'perc' : d[key] / N}"
   ]
  },
  {
   "cell_type": "code",
   "execution_count": 6,
   "id": "c691c705",
   "metadata": {},
   "outputs": [
    {
     "name": "stdout",
     "output_type": "stream",
     "text": [
      "Somme des pourcentages des classes à 1 :  True\n"
     ]
    }
   ],
   "source": [
    "s_perc = 0\n",
    "for key in d:\n",
    "    s_perc += d[key][\"perc\"]\n",
    "print('Somme des pourcentages des classes à 1 : ', math.isclose(s_perc, 1.0))"
   ]
  },
  {
   "cell_type": "code",
   "execution_count": 47,
   "id": "67728858",
   "metadata": {},
   "outputs": [],
   "source": [
    "GAMMA_X = list(d.keys())"
   ]
  },
  {
   "cell_type": "code",
   "execution_count": 50,
   "id": "3379f3d1",
   "metadata": {},
   "outputs": [],
   "source": [
    "def pi(i):\n",
    "    \"\"\"\n",
    "    Renvoie la probabilité a priori de la classe \n",
    "    \"\"\"\n",
    "    if i not in GAMMA_X:\n",
    "        raise ValueError(f\"La classe demandée ({i}) n'appartient pas à GAMMA_X\")\n",
    "    return d[i][\"perc\"]"
   ]
  },
  {
   "cell_type": "code",
   "execution_count": 10,
   "id": "a5f43560",
   "metadata": {},
   "outputs": [
    {
     "name": "stdout",
     "output_type": "stream",
     "text": [
      "Contrôle du nombre de mots :  True\n"
     ]
    }
   ],
   "source": [
    "d_word = {}\n",
    "for x in train_set:\n",
    "    for pair in x:\n",
    "        if pair[1] in d_word:\n",
    "            if pair[0] in d_word[pair[1]]:\n",
    "                d_word[pair[1]][pair[0]] += 1\n",
    "            else : \n",
    "                d_word[pair[1]][pair[0]] = 1\n",
    "        else :\n",
    "            d_word[pair[1]] = {pair[0] : 1}\n",
    "s = 0\n",
    "for key in d_word:\n",
    "    s += sum(d_word[key].values())\n",
    "print(\"Contrôle du nombre de mots : \", s == N)"
   ]
  },
  {
   "cell_type": "code",
   "execution_count": 11,
   "id": "11c67e6a",
   "metadata": {},
   "outputs": [
    {
     "data": {
      "text/plain": [
       "{'Confidence': {'NOUN': 1},\n",
       " 'in': {'ADP': 3376, 'NOUN': 15, 'ADV': 7},\n",
       " 'the': {'DET': 9202, 'ADP': 17},\n",
       " 'pound': {'NOUN': 14},\n",
       " 'is': {'VERB': 1412, 'NOUN': 3},\n",
       " 'widely': {'ADV': 22},\n",
       " 'expected': {'VERB': 114},\n",
       " 'to': {'PART': 5045},\n",
       " 'take': {'VERB': 100, 'NOUN': 1},\n",
       " 'another': {'DET': 72},\n",
       " 'sharp': {'ADJ': 21},\n",
       " 'dive': {'NOUN': 3},\n",
       " 'if': {'ADP': 193},\n",
       " 'trade': {'NOUN': 36, 'VERB': 3},\n",
       " 'figures': {'NOUN': 37, 'VERB': 5},\n",
       " 'for': {'ADP': 1854, 'ADV': 2, 'ADJ': 1},\n",
       " 'September': {'PROPN': 53},\n",
       " ',': {'PUNCT': 10770},\n",
       " 'due': {'ADJ': 87},\n",
       " 'release': {'NOUN': 7, 'VERB': 2},\n",
       " 'tomorrow': {'NOUN': 8},\n",
       " 'fail': {'VERB': 4},\n",
       " 'show': {'VERB': 31, 'NOUN': 11},\n",
       " 'a': {'DET': 4295},\n",
       " 'substantial': {'ADJ': 18},\n",
       " 'improvement': {'NOUN': 14},\n",
       " 'from': {'ADP': 1045},\n",
       " 'July': {'PROPN': 34},\n",
       " 'and': {'CCONJ': 3578},\n",
       " 'August': {'PROPN': 45},\n",
       " \"'s\": {'PART': 1638, 'VERB': 275, 'NOUN': 1},\n",
       " 'near-record': {'ADJ': 2},\n",
       " 'deficits': {'NOUN': 1},\n",
       " '.': {'PUNCT': 8725},\n",
       " 'Chancellor': {'PROPN': 10},\n",
       " 'of': {'ADP': 5200, 'ADV': 1},\n",
       " 'Exchequer': {'PROPN': 4},\n",
       " 'Nigel': {'PROPN': 4},\n",
       " 'Lawson': {'PROPN': 14},\n",
       " 'restated': {'VERB': 5},\n",
       " 'commitment': {'NOUN': 9},\n",
       " 'firm': {'NOUN': 93},\n",
       " 'monetary': {'ADJ': 19},\n",
       " 'policy': {'NOUN': 84},\n",
       " 'has': {'VERB': 670},\n",
       " 'helped': {'VERB': 32},\n",
       " 'prevent': {'VERB': 13},\n",
       " 'freefall': {'NOUN': 1},\n",
       " 'sterling': {'NOUN': 8},\n",
       " 'over': {'ADP': 209, 'ADV': 4},\n",
       " 'past': {'ADJ': 79, 'NOUN': 13, 'ADV': 1},\n",
       " 'week': {'NOUN': 162},\n",
       " 'But': {'CCONJ': 381},\n",
       " 'analysts': {'NOUN': 87},\n",
       " 'reckon': {'VERB': 1},\n",
       " 'underlying': {'VERB': 12},\n",
       " 'support': {'NOUN': 35, 'VERB': 17},\n",
       " 'been': {'VERB': 337},\n",
       " 'eroded': {'VERB': 3},\n",
       " 'by': {'ADP': 976},\n",
       " 'chancellor': {'NOUN': 3},\n",
       " 'failure': {'NOUN': 24},\n",
       " 'announce': {'VERB': 8},\n",
       " 'any': {'DET': 181, 'ADV': 1},\n",
       " 'new': {'ADJ': 303},\n",
       " 'measures': {'NOUN': 11, 'VERB': 1},\n",
       " 'his': {'DET': 331},\n",
       " 'Mansion': {'PROPN': 4},\n",
       " 'House': {'PROPN': 93},\n",
       " 'speech': {'NOUN': 7},\n",
       " 'last': {'ADJ': 220, 'ADV': 3, 'VERB': 4, 'NOUN': 2},\n",
       " 'Thursday': {'PROPN': 31},\n",
       " 'This': {'DET': 86},\n",
       " 'increased': {'VERB': 92, 'ADJ': 1},\n",
       " 'risk': {'NOUN': 49, 'VERB': 1},\n",
       " 'government': {'NOUN': 171},\n",
       " 'being': {'VERB': 98, 'NOUN': 2},\n",
       " 'forced': {'VERB': 21},\n",
       " 'increase': {'VERB': 29, 'NOUN': 78},\n",
       " 'base': {'NOUN': 24, 'VERB': 2},\n",
       " 'rates': {'NOUN': 113, 'VERB': 3},\n",
       " '16': {'NUM': 22},\n",
       " '%': {'NOUN': 1205, 'VERB': 1},\n",
       " 'their': {'DET': 435},\n",
       " 'current': {'ADJ': 70, 'NOUN': 3},\n",
       " '15': {'NUM': 93},\n",
       " 'level': {'NOUN': 55, 'VERB': 2},\n",
       " 'defend': {'VERB': 5},\n",
       " 'economists': {'NOUN': 22},\n",
       " 'foreign': {'ADJ': 60},\n",
       " 'exchange': {'NOUN': 62, 'VERB': 6},\n",
       " 'market': {'NOUN': 374, 'VERB': 7},\n",
       " 'say': {'VERB': 144, 'NOUN': 1},\n",
       " '``': {'PUNCT': 1503},\n",
       " 'The': {'DET': 1487},\n",
       " 'risks': {'NOUN': 15},\n",
       " 'bad': {'ADJ': 25, 'NOUN': 1},\n",
       " 'figure': {'NOUN': 16, 'VERB': 5},\n",
       " 'are': {'VERB': 835},\n",
       " 'very': {'ADV': 75, 'ADJ': 5},\n",
       " 'heavily': {'ADV': 13},\n",
       " 'on': {'ADP': 1118, 'ADV': 7, 'PROPN': 1},\n",
       " 'down': {'ADJ': 9, 'ADV': 128, 'ADP': 17},\n",
       " 'side': {'NOUN': 18},\n",
       " \"''\": {'PUNCT': 1466},\n",
       " 'said': {'VERB': 1217},\n",
       " 'Chris': {'PROPN': 1},\n",
       " 'Dillow': {'PROPN': 3},\n",
       " 'senior': {'ADJ': 32},\n",
       " 'U.K.': {'PROPN': 28, 'ADJ': 2},\n",
       " 'economist': {'NOUN': 25},\n",
       " 'at': {'ADP': 1008},\n",
       " 'Nomura': {'PROPN': 4},\n",
       " 'Research': {'PROPN': 15},\n",
       " 'Institute': {'PROPN': 20},\n",
       " 'If': {'ADP': 79},\n",
       " 'there': {'PRON': 149, 'ADV': 19},\n",
       " 'number': {'NOUN': 75},\n",
       " 'could': {'VERB': 237},\n",
       " 'be': {'VERB': 857},\n",
       " 'an': {'DET': 695},\n",
       " 'awful': {'ADJ': 5},\n",
       " 'lot': {'NOUN': 56},\n",
       " 'pressure': {'NOUN': 27, 'VERB': 3},\n",
       " 'noted': {'VERB': 32},\n",
       " 'Simon': {'PROPN': 1},\n",
       " 'Briscoe': {'PROPN': 2},\n",
       " 'Midland': {'PROPN': 4},\n",
       " 'Montagu': {'PROPN': 4},\n",
       " 'unit': {'NOUN': 108},\n",
       " 'Bank': {'PROPN': 79, 'NOUN': 2},\n",
       " 'PLC': {'PROPN': 30},\n",
       " 'Forecasts': {'NOUN': 1},\n",
       " 'range': {'VERB': 8, 'NOUN': 28},\n",
       " 'but': {'CCONJ': 371},\n",
       " 'few': {'ADJ': 84, 'NOUN': 4, 'ADV': 1},\n",
       " 'expect': {'VERB': 62},\n",
       " 'data': {'NOUN': 25},\n",
       " 'marked': {'VERB': 4},\n",
       " '#': {'SYM': 36},\n",
       " '2': {'NUM': 74},\n",
       " 'billion': {'NUM': 369},\n",
       " '(': {'PUNCT': 274},\n",
       " '$': {'SYM': 1725},\n",
       " '3.2': {'NUM': 2},\n",
       " ')': {'PUNCT': 281},\n",
       " 'deficit': {'NOUN': 11},\n",
       " 'account': {'NOUN': 25, 'VERB': 4},\n",
       " 'reported': {'VERB': 107},\n",
       " '2.2': {'NUM': 9},\n",
       " 'gap': {'NOUN': 6},\n",
       " 'registered': {'VERB': 9},\n",
       " 'topped': {'VERB': 5},\n",
       " 'only': {'ADV': 198, 'ADJ': 25},\n",
       " '2.3': {'NUM': 7},\n",
       " 'October': {'PROPN': 26},\n",
       " '1988': {'NUM': 97},\n",
       " 'Sanjay': {'PROPN': 1},\n",
       " 'Joshi': {'PROPN': 1},\n",
       " 'European': {'ADJ': 27, 'PROPN': 8},\n",
       " 'Baring': {'PROPN': 1},\n",
       " 'Brothers': {'PROPN': 9},\n",
       " '&': {'CCONJ': 212},\n",
       " 'Co.': {'PROPN': 188},\n",
       " 'no': {'DET': 130, 'ADV': 9},\n",
       " 'sign': {'NOUN': 18, 'VERB': 4},\n",
       " 'that': {'ADP': 1053, 'DET': 735, 'NOUN': 2},\n",
       " 'Britain': {'PROPN': 24},\n",
       " 'manufacturing': {'NOUN': 28, 'VERB': 1},\n",
       " 'industry': {'NOUN': 108},\n",
       " 'transforming': {'VERB': 1},\n",
       " 'itself': {'PRON': 27},\n",
       " 'boost': {'VERB': 15, 'NOUN': 10},\n",
       " 'exports': {'NOUN': 8},\n",
       " 'At': {'ADP': 70},\n",
       " 'same': {'ADJ': 78},\n",
       " 'time': {'NOUN': 167, 'VERB': 3},\n",
       " 'he': {'PRON': 564},\n",
       " 'remains': {'VERB': 33, 'NOUN': 1},\n",
       " 'fairly': {'ADV': 15},\n",
       " 'pessimistic': {'ADJ': 2},\n",
       " 'about': {'ADP': 369, 'ADV': 70},\n",
       " 'outlook': {'NOUN': 12},\n",
       " 'imports': {'NOUN': 17, 'VERB': 1},\n",
       " 'given': {'VERB': 35},\n",
       " 'continued': {'VERB': 42},\n",
       " 'high': {'ADJ': 84, 'NOUN': 6, 'ADV': 1},\n",
       " 'consumer': {'NOUN': 54},\n",
       " 'capital': {'NOUN': 62},\n",
       " 'goods': {'NOUN': 17},\n",
       " 'inflows': {'NOUN': 3},\n",
       " 'He': {'PRON': 172},\n",
       " 'reckons': {'VERB': 4},\n",
       " 'will': {'VERB': 657, 'NOUN': 1},\n",
       " 'narrow': {'VERB': 3, 'ADJ': 5},\n",
       " '1.8': {'NUM': 13},\n",
       " 'However': {'ADV': 36},\n",
       " 'Mr.': {'PROPN': 785},\n",
       " 'believes': {'VERB': 29},\n",
       " 'reduction': {'NOUN': 13},\n",
       " 'raw': {'ADJ': 5},\n",
       " 'material': {'NOUN': 16},\n",
       " 'stockbuilding': {'VERB': 1},\n",
       " 'lead': {'VERB': 15, 'NOUN': 15},\n",
       " 'drop': {'NOUN': 46, 'VERB': 7},\n",
       " 'Combined': {'VERB': 1},\n",
       " 'with': {'ADP': 834, 'ADV': 2},\n",
       " 'least': {'ADJ': 74, 'ADV': 1},\n",
       " 'some': {'DET': 306},\n",
       " 'rebound': {'NOUN': 5, 'VERB': 3},\n",
       " 'after': {'ADP': 223, 'ADV': 1},\n",
       " 'unexpected': {'ADJ': 2},\n",
       " 'decline': {'NOUN': 52, 'VERB': 10},\n",
       " 'as': {'ADV': 116, 'ADP': 783},\n",
       " 'little': {'ADJ': 47, 'ADV': 12},\n",
       " '1.3': {'NUM': 10},\n",
       " 'who': {'PRON': 344},\n",
       " 'also': {'ADV': 360},\n",
       " 'forecasts': {'VERB': 2, 'NOUN': 8},\n",
       " 'warns': {'VERB': 5},\n",
       " 'even': {'ADV': 115, 'ADJ': 2},\n",
       " 'bullish': {'ADJ': 7},\n",
       " 'currency': {'NOUN': 18},\n",
       " 'wo': {'VERB': 63},\n",
       " \"n't\": {'ADV': 751},\n",
       " 'advance': {'VERB': 2, 'NOUN': 13},\n",
       " 'much': {'ADJ': 90, 'NOUN': 25, 'ADV': 44},\n",
       " 'because': {'ADP': 230},\n",
       " 'investors': {'NOUN': 180},\n",
       " 'want': {'VERB': 80},\n",
       " 'see': {'VERB': 55},\n",
       " 'further': {'ADJ': 41, 'VERB': 10, 'ADV': 7},\n",
       " 'evidence': {'NOUN': 25},\n",
       " 'turnaround': {'NOUN': 5},\n",
       " 'before': {'ADP': 96, 'ADV': 12},\n",
       " 'adjusting': {'VERB': 4},\n",
       " 'positions': {'NOUN': 14},\n",
       " 'Nevertheless': {'ADV': 6},\n",
       " 'No': {'DET': 15, 'ADV': 2},\n",
       " 'one': {'PRON': 8, 'NUM': 288},\n",
       " 'go': {'VERB': 69, 'NOUN': 2},\n",
       " 'into': {'ADP': 236},\n",
       " 'without': {'ADP': 59},\n",
       " 'flat': {'ADJ': 25, 'ADV': 1},\n",
       " 'position': {'NOUN': 47},\n",
       " 'Meanwhile': {'ADV': 30},\n",
       " 'overall': {'ADJ': 15},\n",
       " 'economy': {'NOUN': 59},\n",
       " 'clouded': {'VERB': 2},\n",
       " 'In': {'ADP': 405},\n",
       " 'warned': {'VERB': 6},\n",
       " 'slowdown': {'NOUN': 18},\n",
       " 'can': {'VERB': 230},\n",
       " 'impact': {'NOUN': 33},\n",
       " 'rise': {'NOUN': 34, 'VERB': 27},\n",
       " 'interest': {'NOUN': 162, 'VERB': 2},\n",
       " 'earlier': {'ADV': 127, 'ADJ': 14},\n",
       " 'this': {'DET': 398},\n",
       " 'month': {'NOUN': 118},\n",
       " 'takes': {'VERB': 21},\n",
       " 'effect': {'NOUN': 27, 'VERB': 1},\n",
       " 'highest': {'ADJ': 14},\n",
       " 'eight': {'NUM': 26},\n",
       " 'years': {'NOUN': 243},\n",
       " 'expenditure': {'NOUN': 2},\n",
       " 'released': {'VERB': 20},\n",
       " 'Friday': {'PROPN': 91},\n",
       " 'do': {'VERB': 210, 'NOUN': 3},\n",
       " 'suggest': {'VERB': 11},\n",
       " 'slowing': {'VERB': 11, 'NOUN': 1},\n",
       " 'quickly': {'ADV': 30},\n",
       " 'spending': {'NOUN': 27, 'VERB': 5},\n",
       " 'rose': {'VERB': 211},\n",
       " '0.1': {'NUM': 3},\n",
       " 'third': {'ADJ': 69},\n",
       " 'quarter': {'NOUN': 203},\n",
       " 'second': {'ADJ': 67, 'NOUN': 3},\n",
       " 'was': {'VERB': 888},\n",
       " 'up': {'ADP': 381, 'ADV': 12, 'VERB': 5},\n",
       " '3.8': {'NUM': 5},\n",
       " 'year': {'NOUN': 481},\n",
       " 'ago': {'ADV': 102},\n",
       " 'compares': {'VERB': 7},\n",
       " '1.6': {'NUM': 14},\n",
       " 'first': {'ADJ': 171, 'ADV': 4},\n",
       " '5.4': {'NUM': 4},\n",
       " 'still': {'ADV': 116, 'ADJ': 3},\n",
       " 'quite': {'ADV': 19},\n",
       " 'strong': {'ADJ': 59, 'ADV': 1},\n",
       " 'suggestions': {'NOUN': 13},\n",
       " 'went': {'VERB': 33},\n",
       " 'services': {'NOUN': 46},\n",
       " 'rather': {'ADV': 22},\n",
       " 'than': {'ADP': 357},\n",
       " 'should': {'VERB': 87},\n",
       " 'reduce': {'VERB': 32},\n",
       " 'fears': {'NOUN': 15},\n",
       " 'more': {'ADJ': 291, 'ADV': 131},\n",
       " 'import': {'NOUN': 6, 'VERB': 1},\n",
       " 'rises': {'NOUN': 2, 'VERB': 2},\n",
       " 'Certainly': {'ADV': 1},\n",
       " 'made': {'VERB': 115},\n",
       " 'it': {'PRON': 983},\n",
       " 'clear': {'ADJ': 26, 'VERB': 6},\n",
       " 'prepared': {'VERB': 14},\n",
       " 'again': {'ADV': 37},\n",
       " 'necessary': {'ADJ': 14},\n",
       " 'both': {'DET': 103},\n",
       " 'ensure': {'VERB': 7},\n",
       " 'does': {'VERB': 125},\n",
       " 'place': {'NOUN': 31, 'VERB': 5},\n",
       " 'reminded': {'VERB': 2},\n",
       " 'audience': {'NOUN': 10},\n",
       " 'not': {'ADV': 266},\n",
       " 'allow': {'VERB': 18},\n",
       " 'rigor': {'NOUN': 1},\n",
       " 'undermined': {'VERB': 2},\n",
       " 'rate': {'NOUN': 122},\n",
       " 'weakness': {'NOUN': 9},\n",
       " 'Analysts': {'NOUN': 23},\n",
       " 'agree': {'VERB': 4},\n",
       " 'holding': {'NOUN': 6, 'VERB': 37},\n",
       " 'moment': {'NOUN': 17},\n",
       " 'other': {'ADJ': 317, 'NOUN': 14},\n",
       " 'promise': {'NOUN': 14, 'VERB': 5},\n",
       " 'pushed': {'VERB': 9},\n",
       " 'higher': {'ADJ': 110},\n",
       " 'And': {'CCONJ': 122},\n",
       " 'they': {'PRON': 470},\n",
       " 'warn': {'VERB': 2},\n",
       " 'popularity': {'NOUN': 4},\n",
       " 'swiftly': {'ADV': 4},\n",
       " 'make': {'VERB': 133, 'NOUN': 3},\n",
       " 'sound': {'NOUN': 8, 'VERB': 3},\n",
       " 'hollow': {'ADJ': 2},\n",
       " 'Sterling': {'PROPN': 8},\n",
       " 'already': {'ADV': 55},\n",
       " 'showing': {'VERB': 13},\n",
       " 'signs': {'NOUN': 16},\n",
       " 'lack': {'NOUN': 13, 'VERB': 1},\n",
       " 'confidence': {'NOUN': 14},\n",
       " 'trading': {'NOUN': 197, 'VERB': 4},\n",
       " 'declined': {'VERB': 56},\n",
       " '1.5890': {'NUM': 1},\n",
       " '2.9495': {'NUM': 1},\n",
       " 'marks': {'NOUN': 21, 'VERB': 1},\n",
       " '1.5940': {'NUM': 1},\n",
       " '2.9429': {'NUM': 1},\n",
       " 'late': {'ADJ': 58, 'ADV': 8},\n",
       " 'Economists': {'NOUN': 6},\n",
       " 'suggested': {'VERB': 11},\n",
       " 'falls': {'VERB': 5},\n",
       " 'below': {'ADP': 36, 'ADV': 2},\n",
       " '2.90': {'NUM': 1},\n",
       " 'halt': {'VERB': 7, 'NOUN': 3},\n",
       " 'balance': {'NOUN': 6, 'VERB': 1},\n",
       " 'unchanged': {'ADJ': 20},\n",
       " 'Market': {'PROPN': 12, 'NOUN': 3},\n",
       " 'Activity': {'NOUN': 3},\n",
       " 'dollar': {'NOUN': 45},\n",
       " 'posted': {'VERB': 44},\n",
       " 'gains': {'NOUN': 49},\n",
       " 'quiet': {'ADJ': 10, 'NOUN': 1},\n",
       " 'concerns': {'NOUN': 25},\n",
       " 'equities': {'NOUN': 6},\n",
       " 'abated': {'VERB': 1},\n",
       " 'Foreign': {'ADJ': 4, 'PROPN': 5},\n",
       " 'dealers': {'NOUN': 31},\n",
       " 'begun': {'VERB': 9},\n",
       " 'distance': {'VERB': 1, 'NOUN': 2},\n",
       " 'volatile': {'ADJ': 9},\n",
       " 'stock': {'NOUN': 230, 'VERB': 3},\n",
       " 'which': {'DET': 458},\n",
       " 'preoccupied': {'VERB': 2},\n",
       " 'since': {'ADP': 105, 'ADV': 1},\n",
       " 'Oct.': {'PROPN': 57},\n",
       " '13': {'NUM': 34},\n",
       " 'when': {'ADV': 224},\n",
       " 'Dow': {'PROPN': 43},\n",
       " 'Jones': {'PROPN': 45},\n",
       " 'Industrial': {'PROPN': 22},\n",
       " 'Average': {'PROPN': 24},\n",
       " 'plunged': {'VERB': 11},\n",
       " '190': {'NUM': 6},\n",
       " 'points': {'NOUN': 60, 'VERB': 5},\n",
       " 'Currency': {'NOUN': 2},\n",
       " 'predict': {'VERB': 12},\n",
       " 'coming': {'VERB': 41, 'NOUN': 1},\n",
       " 'shift': {'VERB': 4, 'NOUN': 12},\n",
       " 'its': {'DET': 745},\n",
       " 'focus': {'NOUN': 9, 'VERB': 8},\n",
       " 'back': {'ADV': 99, 'ADJ': 10},\n",
       " 'economic': {'ADJ': 65},\n",
       " 'fundamentals': {'NOUN': 4},\n",
       " 'keeping': {'VERB': 9},\n",
       " 'close': {'NOUN': 20, 'ADV': 11, 'VERB': 31},\n",
       " 'eye': {'NOUN': 6},\n",
       " 'out': {'ADP': 257, 'NOUN': 2, 'ADV': 9},\n",
       " 'easing': {'NOUN': 4, 'VERB': 4},\n",
       " 'U.S.': {'PROPN': 272},\n",
       " 'Federal': {'PROPN': 73},\n",
       " 'Reserve': {'PROPN': 25},\n",
       " 'Late': {'ADV': 1, 'ADJ': 1},\n",
       " 'New': {'PROPN': 258, 'ADJ': 3},\n",
       " 'York': {'PROPN': 211},\n",
       " 'day': {'NOUN': 71},\n",
       " 'quoted': {'VERB': 11},\n",
       " '1.8578': {'NUM': 2},\n",
       " '1.8470': {'NUM': 4},\n",
       " 'changing': {'VERB': 7},\n",
       " 'hands': {'NOUN': 22},\n",
       " '142.43': {'NUM': 2},\n",
       " 'yen': {'NOUN': 22},\n",
       " '141.70': {'NUM': 4},\n",
       " 'Tokyo': {'PROPN': 36},\n",
       " 'Monday': {'PROPN': 45},\n",
       " 'opened': {'VERB': 18},\n",
       " '141.95': {'NUM': 1},\n",
       " '141.35': {'NUM': 1},\n",
       " 'On': {'ADP': 48},\n",
       " 'Commodity': {'PROPN': 5},\n",
       " 'Exchange': {'PROPN': 106},\n",
       " 'gold': {'NOUN': 32},\n",
       " 'delivery': {'NOUN': 16},\n",
       " 'settled': {'VERB': 12},\n",
       " '367.30': {'NUM': 1},\n",
       " 'ounce': {'NOUN': 10},\n",
       " '20': {'NUM': 77},\n",
       " 'cents': {'NOUN': 215},\n",
       " 'Estimated': {'VERB': 4},\n",
       " 'volume': {'NOUN': 45},\n",
       " 'light': {'NOUN': 22},\n",
       " '2.4': {'NUM': 9},\n",
       " 'million': {'NUM': 1026},\n",
       " 'ounces': {'NOUN': 7},\n",
       " 'early': {'ADJ': 65, 'ADV': 4},\n",
       " 'Hong': {'PROPN': 16},\n",
       " 'Kong': {'PROPN': 12},\n",
       " '366.50': {'NUM': 1},\n",
       " 'East': {'PROPN': 65, 'ADJ': 16},\n",
       " 'Rock': {'PROPN': 9},\n",
       " 'Partners': {'PROPN': 11, 'NOUN': 1},\n",
       " 'Limited': {'PROPN': 8},\n",
       " 'Partnership': {'PROPN': 6},\n",
       " 'proposed': {'VERB': 37},\n",
       " 'acquire': {'VERB': 17},\n",
       " 'A.P.': {'PROPN': 8},\n",
       " 'Green': {'PROPN': 9},\n",
       " 'Industries': {'PROPN': 34},\n",
       " 'Inc.': {'PROPN': 237},\n",
       " '40': {'NUM': 46},\n",
       " 'share': {'NOUN': 396, 'VERB': 4},\n",
       " '19': {'NUM': 28},\n",
       " 'letter': {'NOUN': 29},\n",
       " 'board': {'NOUN': 70},\n",
       " 'offer': {'NOUN': 44, 'VERB': 29},\n",
       " 'subject': {'NOUN': 22},\n",
       " 'signing': {'NOUN': 1, 'VERB': 1},\n",
       " 'merger': {'NOUN': 25},\n",
       " 'agreement': {'NOUN': 56},\n",
       " 'later': {'ADV': 44, 'ADJ': 1},\n",
       " '31': {'NUM': 41},\n",
       " 'attached': {'VERB': 7},\n",
       " 'filing': {'NOUN': 15, 'VERB': 4},\n",
       " 'Securities': {'PROPN': 54},\n",
       " 'Commission': {'PROPN': 28, 'NOUN': 1},\n",
       " 'approval': {'NOUN': 39},\n",
       " 'contingent': {'ADJ': 2},\n",
       " 'upon': {'ADP': 10},\n",
       " 'obtaining': {'VERB': 6},\n",
       " 'satisfactory': {'ADJ': 1},\n",
       " 'financing': {'NOUN': 40, 'VERB': 5},\n",
       " 'An': {'DET': 43},\n",
       " 'official': {'NOUN': 29, 'ADJ': 17},\n",
       " 'comment': {'VERB': 29, 'NOUN': 12},\n",
       " '40-a-share': {'ADJ': 1},\n",
       " 'proposal': {'NOUN': 43},\n",
       " 'values': {'VERB': 2, 'NOUN': 8},\n",
       " 'company': {'NOUN': 513},\n",
       " '106.6': {'NUM': 1},\n",
       " 'currently': {'ADV': 33, 'ADJ': 4},\n",
       " '2,664,098': {'NUM': 1},\n",
       " 'shares': {'NOUN': 211, 'VERB': 5},\n",
       " 'outstanding': {'ADJ': 37},\n",
       " 'Its': {'DET': 13},\n",
       " 'closed': {'VERB': 79},\n",
       " '38': {'NUM': 10},\n",
       " '1.875': {'NUM': 2},\n",
       " 'national': {'ADJ': 51},\n",
       " 'over-the-counter': {'ADJ': 16},\n",
       " 'Mexico': {'PROPN': 23},\n",
       " 'Mo.': {'PROPN': 2},\n",
       " 'maker': {'NOUN': 45},\n",
       " 'refractory': {'ADJ': 2},\n",
       " 'products': {'NOUN': 112},\n",
       " 'boosted': {'VERB': 12},\n",
       " 'stake': {'NOUN': 61},\n",
       " '8.7': {'NUM': 2},\n",
       " 'It': {'PRON': 231},\n",
       " 'now': {'ADV': 147, 'ADJ': 9},\n",
       " 'holds': {'VERB': 17},\n",
       " '233,000': {'NUM': 1},\n",
       " 'common': {'ADJ': 55, 'NOUN': 5},\n",
       " 'including': {'VERB': 80},\n",
       " '30,000': {'NUM': 2},\n",
       " 'bought': {'VERB': 37},\n",
       " '35.50': {'NUM': 1},\n",
       " '36.50': {'NUM': 2},\n",
       " 'York-based': {'ADJ': 7},\n",
       " 'John': {'PROPN': 50},\n",
       " 'Kuhns': {'PROPN': 1},\n",
       " 'Robert': {'PROPN': 31},\n",
       " 'MacDonald': {'PROPN': 1},\n",
       " 'control': {'NOUN': 42, 'VERB': 4},\n",
       " 'sole': {'ADJ': 4},\n",
       " 'general': {'ADJ': 51, 'NOUN': 11},\n",
       " 'partner': {'NOUN': 21},\n",
       " 'L.P': {'PROPN': 1},\n",
       " 'limited': {'ADJ': 29},\n",
       " 'partnership': {'NOUN': 14},\n",
       " 'Westwood': {'PROPN': 4},\n",
       " 'Brick': {'PROPN': 2},\n",
       " 'Lime': {'PROPN': 1},\n",
       " 'indirect': {'ADJ': 3},\n",
       " 'subsidiary': {'NOUN': 33},\n",
       " 'Group': {'PROPN': 71},\n",
       " 'Inc': {'PROPN': 39},\n",
       " 'Both': {'DET': 23},\n",
       " 'based': {'VERB': 81},\n",
       " 'Boston': {'PROPN': 20},\n",
       " 'Freight': {'NOUN': 2},\n",
       " 'declining': {'VERB': 10},\n",
       " 'most': {'ADV': 183},\n",
       " 'decade': {'NOUN': 27},\n",
       " 'competition': {'NOUN': 34},\n",
       " 'spurred': {'VERB': 3},\n",
       " 'deregulation': {'NOUN': 4},\n",
       " 'bottoming': {'VERB': 2},\n",
       " 'turning': {'VERB': 7},\n",
       " 'upward': {'ADV': 4, 'ADJ': 3},\n",
       " 'threatening': {'VERB': 5},\n",
       " 'fuel': {'VERB': 3, 'NOUN': 9},\n",
       " 'inflation': {'NOUN': 68},\n",
       " 'Trucking': {'PROPN': 3},\n",
       " 'shipping': {'VERB': 11, 'NOUN': 1},\n",
       " 'air-freight': {'NOUN': 6},\n",
       " 'companies': {'NOUN': 201},\n",
       " 'have': {'VERB': 667, 'NOUN': 17},\n",
       " 'announced': {'VERB': 36},\n",
       " 'increases': {'NOUN': 29, 'VERB': 4},\n",
       " 'scheduled': {'VERB': 31},\n",
       " 'fall': {'NOUN': 26, 'VERB': 17},\n",
       " 'or': {'CCONJ': 664},\n",
       " 'next': {'ADJ': 119},\n",
       " 'reflecting': {'VERB': 17},\n",
       " 'costs': {'NOUN': 104, 'VERB': 1},\n",
       " 'tightened': {'VERB': 2},\n",
       " 'demand': {'NOUN': 39, 'VERB': 7},\n",
       " 'freight': {'NOUN': 16, 'VERB': 1},\n",
       " 'transport': {'NOUN': 5, 'VERB': 2},\n",
       " 'Major': {'ADJ': 1, 'PROPN': 1},\n",
       " 'shippers': {'NOUN': 7},\n",
       " 'fast': {'ADV': 7, 'ADJ': 2},\n",
       " 'maybe': {'ADV': 8},\n",
       " 'faster': {'ADV': 5, 'ADJ': 1},\n",
       " 'That': {'DET': 111},\n",
       " 'big': {'ADJ': 88},\n",
       " 'change': {'NOUN': 40, 'VERB': 20},\n",
       " 'recent': {'ADJ': 82},\n",
       " 'haulage': {'NOUN': 1},\n",
       " 'bright': {'ADJ': 4},\n",
       " 'spot': {'NOUN': 10},\n",
       " 'productivity': {'NOUN': 6},\n",
       " 'helping': {'VERB': 8},\n",
       " 'restrain': {'VERB': 3},\n",
       " 'competitive': {'ADJ': 10},\n",
       " 'abroad': {'ADV': 5},\n",
       " 'Demand': {'NOUN': 3},\n",
       " 'caught': {'VERB': 9},\n",
       " 'supply': {'NOUN': 17, 'VERB': 2},\n",
       " 'certain': {'ADJ': 52, 'ADV': 1},\n",
       " 'types': {'NOUN': 20},\n",
       " 'transportation': {'NOUN': 27},\n",
       " 'starting': {'VERB': 14},\n",
       " 'move': {'VERB': 22, 'NOUN': 37},\n",
       " 'slightly': {'ADV': 38},\n",
       " 'Clifford': {'PROPN': 1},\n",
       " 'Sayre': {'PROPN': 1},\n",
       " 'director': {'NOUN': 77},\n",
       " 'logistics': {'NOUN': 2},\n",
       " 'Du': {'PROPN': 1},\n",
       " 'Pont': {'PROPN': 1},\n",
       " 'Co': {'PROPN': 33},\n",
       " 'Shippers': {'NOUN': 4},\n",
       " 'surveyed': {'VERB': 4},\n",
       " 'recently': {'ADV': 44},\n",
       " 'Ohio': {'PROPN': 21},\n",
       " 'State': {'PROPN': 25, 'NOUN': 6},\n",
       " 'University': {'PROPN': 33},\n",
       " 'freight-transport': {'ADJ': 3},\n",
       " 'storage': {'NOUN': 7},\n",
       " 'distribution': {'NOUN': 10},\n",
       " '4': {'NUM': 41},\n",
       " 'Only': {'ADV': 15},\n",
       " '10': {'NUM': 119},\n",
       " '250': {'NUM': 7},\n",
       " 'polled': {'VERB': 2},\n",
       " 'decrease': {'VERB': 3, 'NOUN': 2},\n",
       " 'compared': {'VERB': 60},\n",
       " '30': {'NUM': 100},\n",
       " 'had': {'VERB': 357},\n",
       " 'looked': {'VERB': 6},\n",
       " '1980': {'NUM': 14},\n",
       " 'we': {'PRON': 163},\n",
       " 'such': {'ADJ': 201},\n",
       " 'dramatic': {'ADJ': 6},\n",
       " 'broad-based': {'ADJ': 2},\n",
       " 'upturn': {'NOUN': 1},\n",
       " 'perceived': {'VERB': 5},\n",
       " 'Bernard': {'PROPN': 4},\n",
       " 'LaLonde': {'PROPN': 2},\n",
       " 'professor': {'NOUN': 12},\n",
       " 'Columbus': {'PROPN': 5},\n",
       " 'railroads': {'NOUN': 3},\n",
       " 'trucking': {'NOUN': 3},\n",
       " 'began': {'VERB': 41},\n",
       " 'enabled': {'VERB': 2},\n",
       " 'bargain': {'VERB': 1, 'NOUN': 3},\n",
       " 'Carriers': {'PROPN': 2},\n",
       " 'use': {'VERB': 35, 'NOUN': 30},\n",
       " 'equipment': {'NOUN': 45},\n",
       " 'efficiently': {'ADV': 2},\n",
       " 'leading': {'VERB': 20, 'NOUN': 1},\n",
       " 'overcapacity': {'NOUN': 2},\n",
       " 'were': {'VERB': 474},\n",
       " 'eager': {'ADJ': 8},\n",
       " 'fill': {'VERB': 8, 'NOUN': 1},\n",
       " 'cut': {'VERB': 37, 'NOUN': 10},\n",
       " '35': {'NUM': 24},\n",
       " 'annual': {'ADJ': 54},\n",
       " 'inter-city': {'ADJ': 1},\n",
       " 'truck': {'NOUN': 11},\n",
       " 'rail': {'NOUN': 7},\n",
       " '150': {'NUM': 19},\n",
       " '6.4': {'NUM': 7},\n",
       " 'gross': {'ADJ': 12},\n",
       " 'product': {'NOUN': 42},\n",
       " '8': {'NUM': 86},\n",
       " 'GNP': {'PROPN': 8},\n",
       " '1981': {'NUM': 5},\n",
       " 'inefficiency': {'NOUN': 1},\n",
       " 'squeezed': {'VERB': 7},\n",
       " 'system': {'NOUN': 63},\n",
       " 'rising': {'VERB': 21},\n",
       " 'likely': {'ADJ': 66, 'ADV': 4},\n",
       " 'reflected': {'VERB': 13},\n",
       " 'directly': {'ADV': 20},\n",
       " 'saying': {'VERB': 21, 'NOUN': 1},\n",
       " '`': {'PUNCT': 28},\n",
       " 'party': {'NOUN': 27},\n",
       " \"'\": {'PUNCT': 27, 'PART': 131},\n",
       " 'able': {'ADJ': 50},\n",
       " 'look': {'VERB': 22, 'NOUN': 8},\n",
       " 'transportation-cost': {'ADJ': 1},\n",
       " 'savings': {'NOUN': 23},\n",
       " 'nine': {'NUM': 57},\n",
       " 'Transport': {'NOUN': 1, 'PROPN': 2},\n",
       " 'opportunity': {'NOUN': 17},\n",
       " 'offsetting': {'VERB': 3},\n",
       " 'cost': {'NOUN': 57, 'VERB': 24},\n",
       " 'segments': {'NOUN': 6},\n",
       " 'Delaney': {'PROPN': 1},\n",
       " 'consultant': {'NOUN': 15},\n",
       " 'Arthur': {'PROPN': 7},\n",
       " 'D.': {'PROPN': 31},\n",
       " 'Little': {'PROPN': 5, 'ADJ': 1},\n",
       " 'Cambridge': {'PROPN': 3},\n",
       " 'Mass.': {'PROPN': 20},\n",
       " 'We': {'PRON': 135},\n",
       " \"'ve\": {'VERB': 38},\n",
       " 'gotten': {'VERB': 6},\n",
       " 'all': {'DET': 243},\n",
       " 'benefits': {'NOUN': 35, 'VERB': 1},\n",
       " 'freight-cost': {'ADJ': 1},\n",
       " 'reductions': {'NOUN': 5},\n",
       " 'Now': {'ADV': 41},\n",
       " 'real': {'ADJ': 66},\n",
       " 'freight-rate': {'ADJ': 1},\n",
       " 'carriers': {'NOUN': 12},\n",
       " 'replace': {'VERB': 9},\n",
       " 'pay': {'VERB': 95, 'NOUN': 5},\n",
       " 'labor': {'NOUN': 15},\n",
       " 'You': {'PRON': 40},\n",
       " \"'ll\": {'VERB': 29},\n",
       " 'try': {'VERB': 26},\n",
       " 'recoup': {'VERB': 1},\n",
       " 'price': {'NOUN': 205, 'VERB': 2},\n",
       " 'cutting': {'VERB': 7},\n",
       " 'occurred': {'VERB': 7},\n",
       " 'previously': {'ADV': 32},\n",
       " 'Not': {'ADV': 19},\n",
       " 'everyone': {'NOUN': 13},\n",
       " 'good': {'ADJ': 89, 'NOUN': 1},\n",
       " 'times': {'NOUN': 45, 'VERB': 7},\n",
       " 'There': {'PRON': 57},\n",
       " 'Gerard': {'PROPN': 3},\n",
       " 'McCullough': {'PROPN': 1},\n",
       " 'lecturer': {'NOUN': 1},\n",
       " 'Massachusetts': {'PROPN': 3},\n",
       " 'Technology': {'PROPN': 10, 'NOUN': 1},\n",
       " 'Less-than-truckload': {'ADJ': 1},\n",
       " 'carry': {'VERB': 17, 'NOUN': 1},\n",
       " 'several': {'ADJ': 85, 'ADV': 1},\n",
       " 'each': {'DET': 72},\n",
       " 'trailer': {'NOUN': 2},\n",
       " 'discounted': {'VERB': 2},\n",
       " 'away': {'ADV': 40},\n",
       " '4.7': {'NUM': 6},\n",
       " 'implemented': {'VERB': 3},\n",
       " 'April': {'PROPN': 24},\n",
       " 'competing': {'VERB': 5},\n",
       " 'fiercely': {'ADV': 3},\n",
       " 'Railroad-rate': {'ADJ': 1},\n",
       " 'restrained': {'VERB': 2},\n",
       " 'weakening': {'VERB': 1, 'NOUN': 1},\n",
       " 'rail-traffic': {'ADJ': 1},\n",
       " 'levels': {'NOUN': 25},\n",
       " 'keen': {'ADJ': 1},\n",
       " 'trucks': {'NOUN': 16},\n",
       " 'Consolidated': {'PROPN': 6},\n",
       " 'Freightways': {'PROPN': 2},\n",
       " 'Menlo': {'PROPN': 3},\n",
       " 'Park': {'PROPN': 11},\n",
       " 'Calif.': {'PROPN': 36},\n",
       " 'less-than-truckload': {'ADJ': 1},\n",
       " 'carrier': {'NOUN': 22},\n",
       " 'discounting': {'NOUN': 8},\n",
       " 'stabilize': {'VERB': 4},\n",
       " 'plans': {'VERB': 35, 'NOUN': 56},\n",
       " 'raise': {'VERB': 27, 'NOUN': 1},\n",
       " '5.3': {'NUM': 3},\n",
       " 'two': {'NUM': 223},\n",
       " 'competitors': {'NOUN': 10},\n",
       " 'similar': {'ADJ': 31},\n",
       " 'Truckers': {'NOUN': 1},\n",
       " 'trying': {'VERB': 40, 'NOUN': 1},\n",
       " 'send': {'VERB': 8},\n",
       " 'signals': {'NOUN': 2, 'VERB': 2},\n",
       " 'need': {'VERB': 37, 'NOUN': 19},\n",
       " 'stop': {'VERB': 15, 'NOUN': 7},\n",
       " 'bloodletting': {'NOUN': 1},\n",
       " 'forget': {'VERB': 2},\n",
       " 'Michael': {'PROPN': 30},\n",
       " 'Lloyd': {'PROPN': 3},\n",
       " 'analyst': {'NOUN': 55},\n",
       " 'Salomon': {'PROPN': 10},\n",
       " 'Bros': {'PROPN': 2},\n",
       " 'getting': {'VERB': 46},\n",
       " 'feeling': {'NOUN': 3},\n",
       " 'played': {'VERB': 9},\n",
       " 'trucker': {'NOUN': 1},\n",
       " 'off': {'ADP': 103, 'ADV': 9},\n",
       " 'against': {'ADP': 92},\n",
       " 'Air-freight': {'NOUN': 1},\n",
       " 'raised': {'VERB': 21},\n",
       " 'going': {'VERB': 75},\n",
       " 'across': {'ADP': 23},\n",
       " 'Pacific': {'PROPN': 56},\n",
       " 'Asia': {'PROPN': 5},\n",
       " 'Japan': {'PROPN': 43},\n",
       " 'Air': {'PROPN': 57, 'NOUN': 1},\n",
       " 'Lines': {'PROPN': 5, 'NOUN': 1},\n",
       " '25': {'NUM': 58},\n",
       " 'Such': {'ADJ': 16},\n",
       " 'total': {'ADJ': 34, 'NOUN': 18, 'VERB': 6},\n",
       " 'slow': {'ADJ': 13, 'VERB': 5},\n",
       " 'Richard': {'PROPN': 22},\n",
       " 'Connors': {'PROPN': 1},\n",
       " 'vice': {'NOUN': 73},\n",
       " 'president': {'NOUN': 161},\n",
       " 'Yusen': {'PROPN': 2},\n",
       " 'Sea': {'PROPN': 4},\n",
       " 'Service': {'PROPN': 31},\n",
       " 'U.S.A.': {'PROPN': 3},\n",
       " 'air-freight-forwarding': {'ADJ': 1},\n",
       " 'Nippon': {'PROPN': 2},\n",
       " 'Kaisha': {'PROPN': 1},\n",
       " 'Ship': {'NOUN': 2},\n",
       " 'carrying': {'VERB': 15},\n",
       " 'bulk': {'NOUN': 11},\n",
       " 'commodities': {'NOUN': 8},\n",
       " 'oil': {'NOUN': 46},\n",
       " 'grain': {'NOUN': 7},\n",
       " 'coal': {'NOUN': 11},\n",
       " 'iron': {'NOUN': 1},\n",
       " 'ore': {'NOUN': 1},\n",
       " 'couple': {'NOUN': 30},\n",
       " 'Some': {'DET': 70},\n",
       " '3': {'NUM': 60},\n",
       " 'months': {'NOUN': 150},\n",
       " 'ship': {'NOUN': 4, 'VERB': 1},\n",
       " 'lines': {'NOUN': 41},\n",
       " 'containers': {'NOUN': 3},\n",
       " 'North': {'PROPN': 27},\n",
       " 'Atlantic': {'PROPN': 14},\n",
       " 'between': {'ADP': 86, 'ADV': 1},\n",
       " 'Europe': {'PROPN': 43},\n",
       " 'hoping': {'VERB': 3},\n",
       " 'partly': {'ADV': 17},\n",
       " 'restore': {'VERB': 11},\n",
       " 'operating': {'VERB': 59, 'NOUN': 11},\n",
       " 'plan': {'NOUN': 92, 'VERB': 17},\n",
       " 'effective': {'ADJ': 10},\n",
       " 'MGM': {'PROPN': 8},\n",
       " 'Grand': {'PROPN': 9},\n",
       " 'filed': {'VERB': 30},\n",
       " 'registration': {'NOUN': 4},\n",
       " 'statement': {'NOUN': 27},\n",
       " 'public': {'ADJ': 52, 'NOUN': 5, 'ADV': 2},\n",
       " 'offering': {'NOUN': 49, 'VERB': 7},\n",
       " 'six': {'NUM': 55},\n",
       " 'Beverly': {'PROPN': 3},\n",
       " 'Hills': {'PROPN': 3},\n",
       " 'Calif.-based': {'ADJ': 2},\n",
       " 'would': {'VERB': 462},\n",
       " '26.9': {'NUM': 1},\n",
       " 'hotel': {'NOUN': 16},\n",
       " 'Gaming': {'PROPN': 1},\n",
       " 'Merrill': {'PROPN': 19},\n",
       " 'Lynch': {'PROPN': 22},\n",
       " 'Capital': {'PROPN': 47},\n",
       " 'Markets': {'PROPN': 10, 'NOUN': 2},\n",
       " 'underwriters': {'NOUN': 5},\n",
       " 'Proceeds': {'NOUN': 8},\n",
       " 'sale': {'NOUN': 98},\n",
       " 'used': {'VERB': 86},\n",
       " 'remodeling': {'VERB': 1},\n",
       " 'refurbishing': {'VERB': 1},\n",
       " 'projects': {'NOUN': 17, 'VERB': 1},\n",
       " 'well': {'ADV': 95, 'ADJ': 3},\n",
       " 'planned': {'VERB': 22},\n",
       " 'hotel\\\\/casino': {'NOUN': 1},\n",
       " 'theme': {'NOUN': 3},\n",
       " 'park': {'NOUN': 5, 'VERB': 1},\n",
       " 'Bob': {'PROPN': 9},\n",
       " 'Stone': {'PROPN': 8},\n",
       " 'stewed': {'ADJ': 1},\n",
       " 'manager': {'NOUN': 45},\n",
       " 'putting': {'VERB': 16},\n",
       " 'him': {'PRON': 58},\n",
       " 'probation': {'NOUN': 2},\n",
       " 'insubordination': {'NOUN': 1},\n",
       " 'thought': {'VERB': 36, 'NOUN': 2},\n",
       " 'discipline': {'NOUN': 4},\n",
       " 'unfair': {'ADJ': 6},\n",
       " ';': {'PUNCT': 243},\n",
       " 'believed': {'VERB': 13},\n",
       " 'wanted': {'VERB': 16},\n",
       " 'get': {'VERB': 111},\n",
       " 'rid': {'ADJ': 3, 'VERB': 2},\n",
       " 'personal': {'ADJ': 49},\n",
       " 'reasons': {'NOUN': 11},\n",
       " 'Unable': {'ADJ': 1},\n",
       " 'persuade': {'VERB': 6},\n",
       " 'decision': {'NOUN': 41},\n",
       " 'court': {'NOUN': 51, 'VERB': 8},\n",
       " 'hearing': {'NOUN': 7, 'VERB': 3},\n",
       " 'entered': {'VERB': 10},\n",
       " 'conference': {'NOUN': 16},\n",
       " 'room': {'NOUN': 19},\n",
       " 'building': {'NOUN': 61, 'VERB': 8},\n",
       " 'near': {'ADP': 27, 'VERB': 1, 'ADJ': 2},\n",
       " 'where': {'ADV': 77},\n",
       " 'worked': {'VERB': 17},\n",
       " 'After': {'ADP': 38},\n",
       " 'three': {'NUM': 121},\n",
       " 'members': {'NOUN': 43},\n",
       " 'introduced': {'VERB': 14},\n",
       " 'themselves': {'PRON': 32},\n",
       " 'chairman': {'NOUN': 110},\n",
       " 'panel': {'NOUN': 24},\n",
       " ':': {'PUNCT': 314},\n",
       " 'Go': {'VERB': 2},\n",
       " 'ahead': {'ADV': 22},\n",
       " 'tell': {'VERB': 21},\n",
       " 'us': {'PRON': 39},\n",
       " 'what': {'PRON': 136},\n",
       " 'happened': {'VERB': 18},\n",
       " 'may': {'VERB': 194},\n",
       " 'ask': {'VERB': 11},\n",
       " 'questions': {'NOUN': 19},\n",
       " 'you': {'PRON': 152},\n",
       " 'along': {'ADP': 38, 'ADV': 1},\n",
       " 'wait': {'VERB': 10, 'NOUN': 1},\n",
       " 'until': {'ADP': 62},\n",
       " 'end': {'NOUN': 69, 'VERB': 10},\n",
       " 'lawyers': {'NOUN': 19},\n",
       " 'tape': {'NOUN': 9},\n",
       " 'recorders': {'NOUN': 1},\n",
       " 'present': {'ADJ': 8, 'VERB': 2, 'NOUN': 1},\n",
       " 'extra': {'ADJ': 20},\n",
       " 'people': {'NOUN': 178},\n",
       " 'personnel': {'NOUN': 18},\n",
       " 'specialists': {'NOUN': 11},\n",
       " 'whom': {'PRON': 7},\n",
       " 'knew': {'VERB': 6},\n",
       " 'case': {'NOUN': 56},\n",
       " 'intimately': {'ADV': 1},\n",
       " 'help': {'VERB': 65, 'NOUN': 13},\n",
       " 'facts': {'NOUN': 6},\n",
       " 'needed': {'VERB': 23},\n",
       " 'give': {'VERB': 47, 'NOUN': 1},\n",
       " 'full': {'ADJ': 36},\n",
       " 'picture': {'NOUN': 5},\n",
       " 'Over': {'ADP': 11},\n",
       " 'cup': {'NOUN': 2},\n",
       " 'coffee': {'NOUN': 15},\n",
       " 'told': {'VERB': 28},\n",
       " 'story': {'NOUN': 21},\n",
       " 'talked': {'VERB': 4},\n",
       " 'minutes': {'NOUN': 23},\n",
       " 'When': {'ADV': 52},\n",
       " 'through': {'ADP': 133, 'ADV': 1},\n",
       " 'asked': {'VERB': 20},\n",
       " 'many': {'ADJ': 134, 'NOUN': 26, 'VERB': 3, 'ADV': 2},\n",
       " 'then': {'ADV': 80, 'ADJ': 2},\n",
       " 'like': {'VERB': 12, 'ADP': 106, 'NOUN': 3, 'ADJ': 1},\n",
       " 'hear': {'VERB': 10},\n",
       " 'talk': {'VERB': 13, 'NOUN': 6},\n",
       " 'witnesses': {'NOUN': 1},\n",
       " 'promised': {'VERB': 13},\n",
       " 'within': {'ADP': 33},\n",
       " 'weeks': {'NOUN': 46},\n",
       " 'fictional': {'ADJ': 1},\n",
       " 'name': {'NOUN': 33, 'VERB': 3},\n",
       " 'incident': {'NOUN': 3},\n",
       " 'described': {'VERB': 8},\n",
       " 'Northrop': {'PROPN': 9},\n",
       " 'Corp.': {'PROPN': 267},\n",
       " 'Los': {'PROPN': 53},\n",
       " 'Angeles': {'PROPN': 44},\n",
       " 'called': {'VERB': 52},\n",
       " 'Management': {'PROPN': 27},\n",
       " 'Appeals': {'PROPN': 5},\n",
       " 'Committee': {'PROPN': 33},\n",
       " 'just': {'ADV': 125},\n",
       " 'MAC': {'PROPN': 1},\n",
       " 'dozen': {'NOUN': 12},\n",
       " 'cases': {'VERB': 4, 'NOUN': 35},\n",
       " 'Alter': {'VERB': 1},\n",
       " 'details': {'NOUN': 11},\n",
       " 'example': {'NOUN': 53},\n",
       " 'taking': {'VERB': 20},\n",
       " 'today': {'NOUN': 57},\n",
       " 'Express': {'PROPN': 27},\n",
       " 'Memphis': {'PROPN': 2},\n",
       " 'Defense': {'PROPN': 6, 'NOUN': 2},\n",
       " 'Underseas': {'PROPN': 1},\n",
       " 'Systems': {'PROPN': 24},\n",
       " 'divisions': {'NOUN': 5},\n",
       " 'Honeywell': {'PROPN': 2},\n",
       " 'Minneapolis': {'PROPN': 5},\n",
       " 'General': {'PROPN': 47},\n",
       " 'Electric': {'PROPN': 8},\n",
       " 'plant': {'NOUN': 56, 'VERB': 1},\n",
       " 'Columbia': {'PROPN': 31},\n",
       " 'Md.': {'PROPN': 3},\n",
       " 'These': {'DET': 29},\n",
       " 'firms': {'NOUN': 53},\n",
       " 'pioneers': {'NOUN': 2},\n",
       " 'significant': {'ADJ': 31},\n",
       " 'trend': {'NOUN': 11},\n",
       " 'corporate': {'ADJ': 59},\n",
       " 'world': {'NOUN': 41},\n",
       " 'I': {'PRON': 323},\n",
       " 'call': {'VERB': 21, 'NOUN': 9},\n",
       " 'process': {'NOUN': 27, 'VERB': 2},\n",
       " 'Although': {'ADP': 35},\n",
       " 'practiced': {'VERB': 2},\n",
       " '--': {'PUNCT': 438},\n",
       " 'perhaps': {'ADV': 15},\n",
       " '60': {'NUM': 33},\n",
       " 'fastest': {'ADJ': 1},\n",
       " 'developing': {'VERB': 8},\n",
       " 'trends': {'NOUN': 8},\n",
       " 'majority': {'NOUN': 31},\n",
       " 'people-oriented': {'ADJ': 1},\n",
       " 'adopt': {'VERB': 4},\n",
       " 'Corporate': {'ADJ': 7},\n",
       " 'appeals': {'NOUN': 10},\n",
       " 'management': {'NOUN': 68},\n",
       " 'variety': {'NOUN': 7},\n",
       " 'reduces': {'VERB': 7},\n",
       " 'lawsuits': {'NOUN': 5},\n",
       " 'disgruntled': {'ADJ': 3},\n",
       " 'employees': {'NOUN': 60, 'VERB': 1},\n",
       " 'ex-employees': {'NOUN': 1},\n",
       " 'means': {'VERB': 26, 'NOUN': 2},\n",
       " 'reduced': {'VERB': 23},\n",
       " 'legal': {'ADJ': 22},\n",
       " ...}"
      ]
     },
     "execution_count": 11,
     "metadata": {},
     "output_type": "execute_result"
    }
   ],
   "source": [
    "d_word"
   ]
  },
  {
   "cell_type": "code",
   "execution_count": 12,
   "id": "f87ba93a",
   "metadata": {
    "collapsed": true
   },
   "outputs": [
    {
     "data": {
      "text/plain": [
       "{'ADJ': 14312,\n",
       " 'ADP': 22847,\n",
       " 'ADV': 7597,\n",
       " 'CCONJ': 5372,\n",
       " 'DET': 21261,\n",
       " 'INTJ': 15,\n",
       " 'NOUN': 43766,\n",
       " 'NUM': 8315,\n",
       " 'PART': 6850,\n",
       " 'PRON': 4555,\n",
       " 'PROPN': 20304,\n",
       " 'PUNCT': 24223,\n",
       " 'SYM': 1792,\n",
       " 'VERB': 30480,\n",
       " 'X': 38}"
      ]
     },
     "execution_count": 12,
     "metadata": {},
     "output_type": "execute_result"
    }
   ],
   "source": [
    "d_word_b_den = {}\n",
    "for i in GAMMA_X :\n",
    "    s = 0\n",
    "    for word in d_word:\n",
    "        s += d_word[word].get(i, 0)\n",
    "    d_word_b_den[i] = s"
   ]
  },
  {
   "cell_type": "code",
   "execution_count": 54,
   "id": "82ce7aec",
   "metadata": {},
   "outputs": [
    {
     "name": "stdout",
     "output_type": "stream",
     "text": [
      "0.36019485612847296\n"
     ]
    }
   ],
   "source": [
    "def b_old(i, y):\n",
    "    \"\"\"\n",
    "    Permet de construire le dictionnaire d_b contenant toutes les valeurs des appels b(i, y)\n",
    "    \"\"\"\n",
    "    if i not in GAMMA_X:\n",
    "        raise ValueError(f\"La classe demandée ({i}) n'appartient pas à GAMMA_X\")  \n",
    "    mot = d_word.get(y, 0)\n",
    "    if mot == 0:\n",
    "        return 0 \n",
    "    return (d_word[y].get(i, 0)) / d_word_b_den[i]\n",
    "\n",
    "\n",
    "# Initialisation de OMEGA_Y, l'ensemble des mots distincts du corpus train_set\n",
    "omega_Y = set()\n",
    "for x in train_set:\n",
    "    for pair in x:\n",
    "        if pair[1] not in omega_Y:\n",
    "            omega_Y.add(pair[1])\n",
    "\n",
    "d_b = {}\n",
    "for i in GAMMA_X:\n",
    "    d_b[i] = {}\n",
    "    for j in omega_Y:\n",
    "        d_b[i][j] = b_old(i,j)\n",
    "\n",
    "def b(i, j):\n",
    "    \"\"\"\n",
    "    Renvoie la probabilité d'avoir l'observation y sachant que X = i (i ~ lambda_i)\n",
    "    Paramètre de lissage : 1e-5\n",
    "    \"\"\"\n",
    "    if i not in GAMMA_X:\n",
    "        raise ValueError(f\"La classe demandée ({i}) n'appartient pas à GAMMA_X\")\n",
    "    res = d_b.get(i, 0)\n",
    "    if res == 0:\n",
    "        return 1e-5\n",
    "    else :\n",
    "        return res.get(j, 0) + 1e-5"
   ]
  },
  {
   "cell_type": "code",
   "execution_count": 49,
   "id": "0cb9bbc1",
   "metadata": {
    "collapsed": true
   },
   "outputs": [
    {
     "data": {
      "text/plain": [
       "0.34821321140656963"
      ]
     },
     "execution_count": 49,
     "metadata": {},
     "output_type": "execute_result"
    }
   ],
   "source": [
    "def a_old(i, j):\n",
    "    \"\"\"\n",
    "    Fonction permettant de construire en dur un dictionnaire contenant les valeurs de a(i,j)\n",
    "    \"\"\"\n",
    "    if (i, j) not in list(itertools.product(GAMMA_X,GAMMA_X)):\n",
    "        raise ValueError(f\"La classe demandée ({i}, {j}) n'appartient pas à GAMMA_X²\")\n",
    "    s1, s2 = (0, 0)\n",
    "    for sent in train_set:\n",
    "        n = len(sent)\n",
    "        for k in range(n-1):\n",
    "            if sent[k][0] == i:\n",
    "                s2 += 1\n",
    "                if sent[k+1][0] == j:\n",
    "                    s1 += 1\n",
    "    return s1/s2\n",
    "\n",
    "d_a = {}\n",
    "for i in GAMMA_X:\n",
    "    d_a[i] = {}\n",
    "    for j in GAMMA_X:\n",
    "        d_a[i][j] = a_old(i,j)\n",
    "        \n",
    "def a(i, j):\n",
    "    \"\"\"\n",
    "    Renvoie la probabilité a priori d'avoir X_t+1 = j sachant que X = i (i ~ lambda_i)\n",
    "    \"\"\"\n",
    "    if (i, j) not in list(itertools.product(GAMMA_X,GAMMA_X)):\n",
    "        raise ValueError(f\"La classe demandée ({i}, {j}) n'appartient pas à GAMMA_X²\")\n",
    "    return d_a[i][j]"
   ]
  },
  {
   "cell_type": "code",
   "execution_count": 55,
   "id": "fe3551d4",
   "metadata": {},
   "outputs": [
    {
     "name": "stdout",
     "output_type": "stream",
     "text": [
      "Sans paramètre de lissage : b_old('PUNCT', '.') 0.36019485612847296\n",
      "b('PUNCT', '.') :  0.36020485612847297\n",
      "a('NUM', 'NOUN') :  0.34821321140656963\n",
      "pi('ADJ') :  0.06759648037331091\n"
     ]
    }
   ],
   "source": [
    "# Vérification des valeurs\n",
    "print(r\"Sans paramètre de lissage : b_old('PUNCT', '.')\", b_old('PUNCT', '.'))\n",
    "print(r\"b('PUNCT', '.') : \", b('PUNCT', '.'))\n",
    "print(r\"a('NUM', 'NOUN') : \", a('NUM', 'NOUN'))\n",
    "print(r\"pi('ADJ') : \", pi('ADJ'))"
   ]
  },
  {
   "cell_type": "markdown",
   "id": "dbd42c4a",
   "metadata": {},
   "source": [
    "##### Algorithme forward-backward"
   ]
  },
  {
   "cell_type": "markdown",
   "id": "667fdcfb",
   "metadata": {},
   "source": [
    "Une première tentative faite en utilisant les formules par récurrence mais les temps de calcul sont trop longs"
   ]
  },
  {
   "cell_type": "code",
   "execution_count": 21,
   "id": "554c03a5",
   "metadata": {},
   "outputs": [
    {
     "data": {
      "text/plain": [
       "6.790159025537604e-06"
      ]
     },
     "execution_count": 21,
     "metadata": {},
     "output_type": "execute_result"
    }
   ],
   "source": [
    "# Inititialisation\n",
    "def alpha_1(i, Y):\n",
    "    \"\"\"\n",
    "    Renvoie la valeur pour alpha_1(i) pour le Y donné\n",
    "    \"\"\"\n",
    "    return pi(i) * b(i, Y[0])\n",
    "\n",
    "def beta_T(i, Y):\n",
    "    \"\"\"\n",
    "    Renvoie la valeur pour beta_T(i) pour le Y donné\n",
    "    \"\"\"\n",
    "    return 1\n",
    "\n",
    "alpha_1('NOUN', 'figures')"
   ]
  },
  {
   "cell_type": "code",
   "execution_count": 22,
   "id": "061bf952",
   "metadata": {},
   "outputs": [],
   "source": [
    "def init_alpha(Y):\n",
    "    l_alpha = []\n",
    "    row = [alpha_1(x, Y) for x in GAMMA_X]\n",
    "    l_alpha.append(row/sum(row))\n",
    "    df_alpha = pd.DataFrame(l_alpha, columns = GAMMA_X)\n",
    "    return df_alpha\n",
    "\n",
    "def find_next_alpha(df_alpha, Y):   \n",
    "    \"\"\"\n",
    "    Rajoute une ligne à df_alpha // calcul de alpha_t+1\n",
    "    \"\"\"\n",
    "    \n",
    "    ### OPTIMISATION\n",
    "    ### find_next_alpha appelée len(Y)-1 fois\n",
    "    \n",
    "    \n",
    "    row=[]\n",
    "    t = len(df_alpha) - 1 # Le nombre d'étapes alpha calculées\n",
    "    for i in GAMMA_X:\n",
    "        s = 0\n",
    "        for j in GAMMA_X:\n",
    "            s += df_alpha[j][t] * a(j,i)  ## GAMMA_X² appels à la fonction a(j,i) | 30 ms par appel  -> priorité 1 à améliorer -> fait | 15 micros par appel\n",
    "        alpha_new = b(i, Y[t+1]) * s  ## GAMMA_X appels à la fonction b   -> priorité 2 à améliorer\n",
    "        row.append(alpha_new)\n",
    "    df_alpha.loc[t+1] = row / sum(row)\n",
    "    return df_alpha\n",
    "\n",
    "def alpha(Y):\n",
    "    \"\"\"\n",
    "    Renvoie la df_alpha complète pour Y\n",
    "    \"\"\"\n",
    "    df_alpha = init_alpha(Y)\n",
    "    for k in range(len(Y)-1):\n",
    "        df_alpha = find_next_alpha(df_alpha, Y)\n",
    "    return df_alpha"
   ]
  },
  {
   "cell_type": "code",
   "execution_count": 23,
   "id": "22aa547c",
   "metadata": {},
   "outputs": [],
   "source": [
    "def init_beta(Y):\n",
    "    l_beta = []\n",
    "    row = np.array([1 for x in GAMMA_X])\n",
    "    l_beta.append(row/sum(row))\n",
    "    df_beta = pd.DataFrame(l_beta, columns = GAMMA_X)\n",
    "    return df_beta\n",
    "\n",
    "def find_next_beta(df_beta, Y):\n",
    "    row=[]\n",
    "    t = len(df_beta) - 1 # Le nombre d'étapes alpha calculées\n",
    "    for i in GAMMA_X:\n",
    "        s = 0\n",
    "        for j in GAMMA_X:\n",
    "            s += df_beta[j][t] * a(i, j) * b(j, Y[t])  # GAMMA_X² appels à b pas optimisée | 5ms par appel\n",
    "        row.append(s)\n",
    "    df_beta.loc[t+1] = row / sum(row)\n",
    "    return df_beta\n",
    "\n",
    "def beta(Y):\n",
    "    \"\"\"\n",
    "    Renvoie la df_beta complète pour Y\n",
    "    \"\"\"\n",
    "    df_beta = init_beta(Y)\n",
    "    for k in range(len(Y)-1):\n",
    "        df_beta = find_next_beta(df_beta, Y)\n",
    "    return df_beta.sort_index(ascending = False).reset_index()"
   ]
  },
  {
   "cell_type": "code",
   "execution_count": 24,
   "id": "24f37504",
   "metadata": {},
   "outputs": [],
   "source": [
    "def p(t, i, Y, df_alpha, df_beta):\n",
    "    \"\"\"\n",
    "    Renvoie la probabilité de X_t = i sachant Y\n",
    "    Utilise : les dataframes calculées pour alpha et beta\n",
    "    \"\"\"\n",
    "    s = 0\n",
    "    for j in GAMMA_X:\n",
    "        s += df_alpha[j][t] * df_beta[j][t]\n",
    "    return (df_alpha[i][t] * df_beta[i][t]) / s"
   ]
  },
  {
   "cell_type": "code",
   "execution_count": 25,
   "id": "e7660afc",
   "metadata": {},
   "outputs": [],
   "source": [
    "def predict_X_t(t, Y, df_alpha, df_beta):\n",
    "    \"\"\"\n",
    "    Renvoie la prédiction pour la classe de X_t en ayant observé Y\n",
    "    Utilise : les dataframes calculées pour alpha et beta\n",
    "    \"\"\"\n",
    "    res = None\n",
    "    proba = 0\n",
    "    for i in GAMMA_X:\n",
    "        if p(t, i, Y, df_alpha, df_beta)>proba:\n",
    "            proba = p(t, i, Y, df_alpha, df_beta)\n",
    "            res = i\n",
    "    return res"
   ]
  },
  {
   "cell_type": "code",
   "execution_count": 26,
   "id": "3996f518",
   "metadata": {},
   "outputs": [],
   "source": [
    "def predict_x(Y):\n",
    "    \"\"\"\n",
    "    Renvoie une liste de prédictions pour chaque mot de Y, à valeur dans GAMMA_X\n",
    "    Utilise : les dataframes calculées pour alpha et beta\n",
    "    \"\"\"\n",
    "    df_alpha = alpha(Y)\n",
    "    df_beta = beta(Y)\n",
    "    res= []\n",
    "    for t in range(len(Y)):\n",
    "        res.append(predict_X_t(t, Y, df_alpha, df_beta))\n",
    "    return res"
   ]
  },
  {
   "cell_type": "code",
   "execution_count": 27,
   "id": "9e510f58",
   "metadata": {},
   "outputs": [
    {
     "data": {
      "text/plain": [
       "['PRON', 'VERB', 'DET', 'NOUN', 'ADP', 'DET', 'ADJ', 'NOUN', 'PUNCT']"
      ]
     },
     "execution_count": 27,
     "metadata": {},
     "output_type": "execute_result"
    }
   ],
   "source": [
    "# Test sur la phrase donnée comme exemple\n",
    "Y = [\"I\", \"am\", \"a\", \"student\", \"in\", \"a\", \"French\", \"school\",\".\"]\n",
    "predict_x(Y)"
   ]
  },
  {
   "cell_type": "code",
   "execution_count": 28,
   "id": "5d214fda",
   "metadata": {},
   "outputs": [
    {
     "data": {
      "text/plain": [
       "array(['PROPN', 'PROPN', 'PROPN', ..., 'PROPN', 'PROPN', 'PUNCT'],\n",
       "      dtype='<U5')"
      ]
     },
     "execution_count": 28,
     "metadata": {},
     "output_type": "execute_result"
    }
   ],
   "source": [
    "# Récupération des labels en présence dans test_set\n",
    "labels_test = []\n",
    "for x in test_set:\n",
    "    for pair in x:\n",
    "        labels_test.append(pair[0])\n",
    "labels_test = np.array(labels_test)\n",
    "labels_test"
   ]
  },
  {
   "cell_type": "code",
   "execution_count": 45,
   "id": "3ade0f7d",
   "metadata": {},
   "outputs": [],
   "source": [
    "# # Récupération des phrase du test_set -> désactivé car sauvegardé au format pickle\n",
    "\n",
    "# phrases_test = []\n",
    "# for x in test_set:\n",
    "#     phrase = [y[1] for y in x]\n",
    "#     phrases_test.append(phrase)\n",
    "\n",
    "# labels_predict = list(map(predict_x,phrases_test))\n",
    "# labels_predict_flat = []\n",
    "# for sublist in labels_predict:\n",
    "#     for prediction in sublist:\n",
    "#         labels_predict_flat.append(prediction)\n",
    "# labels_predict_flat = np.array(labels_predict_flat)   \n",
    "\n",
    "\n",
    "# Sauvegarde au format pickle\n",
    "\n",
    "import pickle\n",
    "with open('mypicklefile', 'wb') as prediction_test:\n",
    "    pickle.dump(labels_predict_flat, prediction_test)\n",
    "with open('mypicklefile', 'rb') as prediction_test:\n",
    "    labels_predict_flat = pickle.load(prediction_test)"
   ]
  },
  {
   "cell_type": "code",
   "execution_count": 46,
   "id": "699fe72f",
   "metadata": {},
   "outputs": [
    {
     "name": "stdout",
     "output_type": "stream",
     "text": [
      "Pourcentage de mots bien labellisés : \n"
     ]
    },
    {
     "data": {
      "text/plain": [
       "90.76134"
      ]
     },
     "execution_count": 46,
     "metadata": {},
     "output_type": "execute_result"
    }
   ],
   "source": [
    "print(\"Pourcentage de mots bien labellisés : \")\n",
    "round((labels_test[:len(labels_predict_flat)] == labels_predict_flat).sum() / len(labels_predict_flat), 8)*100"
   ]
  },
  {
   "cell_type": "markdown",
   "id": "c3296aa8",
   "metadata": {},
   "source": [
    "## Exercice : 3 Filtrage de Kalman"
   ]
  },
  {
   "cell_type": "code",
   "execution_count": 84,
   "id": "25b803b1",
   "metadata": {},
   "outputs": [],
   "source": [
    "from scipy.ndimage.interpolation import shift"
   ]
  },
  {
   "cell_type": "code",
   "execution_count": 63,
   "id": "235cf0ee",
   "metadata": {},
   "outputs": [],
   "source": [
    "path = r\"C:\\Users\\Pierrick\\OneDrive\\Bureau\\K\\2_MS_TelecomParis\\Cours\\IA702 - Modèles probabilistes et apprentissage automatique\\TP3\\TP3 functions-20211020\\TP3_functions\\\\\"\n",
    "X = np.loadtxt(path + \"signal_X.txt\")\n",
    "Y = np.loadtxt(path + \"signal_Y.txt\")"
   ]
  },
  {
   "attachments": {
    "image.png": {
     "image/png": "[encoded data removed]"
    }
   },
   "cell_type": "markdown",
   "id": "633fbe10",
   "metadata": {},
   "source": [
    "### 1) Estimation des paramètres a et b de manière non supervisée\n",
    "\n",
    "On utilise \n",
    "![image.png](attachment:image.png)\n"
   ]
  },
  {
   "cell_type": "markdown",
   "id": "faffa869",
   "metadata": {},
   "source": [
    "En notant $ab^2 = w_1$ et $a^2b^2=w_2$, on a:\n",
    "\n",
    "\n",
    "$a = \\frac{w_2}{w_1}$\n",
    "\n",
    "et\n",
    "\n",
    "$b = \\sqrt \\frac{w_1^2}{w_2}$"
   ]
  },
  {
   "cell_type": "markdown",
   "id": "2bc6eccf",
   "metadata": {},
   "source": [
    "Calcul de $w_1 = ab^2$"
   ]
  },
  {
   "cell_type": "code",
   "execution_count": 151,
   "id": "9b6ff01c",
   "metadata": {},
   "outputs": [
    {
     "data": {
      "text/plain": [
       "0.4679480353869944"
      ]
     },
     "execution_count": 151,
     "metadata": {},
     "output_type": "execute_result"
    }
   ],
   "source": [
    "y_mean = Y.mean()\n",
    "y_shifted_1 = shift(Y, 1, cval=np.NaN)[1:]\n",
    "w1 = ((Y-y_mean)[1:] * (y_shifted_1 - y_shifted_1.mean())).sum() / len(y_shifted_1)\n",
    "w1"
   ]
  },
  {
   "cell_type": "markdown",
   "id": "17e8f371",
   "metadata": {},
   "source": [
    "Calcul de $w_2 = a^2b^2$"
   ]
  },
  {
   "cell_type": "code",
   "execution_count": 152,
   "id": "d0f04b8f",
   "metadata": {},
   "outputs": [
    {
     "data": {
      "text/plain": [
       "0.2790016315967287"
      ]
     },
     "execution_count": 152,
     "metadata": {},
     "output_type": "execute_result"
    }
   ],
   "source": [
    "y_shifted_2 = shift(Y, 2, cval=np.NaN)[2:]\n",
    "w2 = ((Y-y_mean)[2:] * (y_shifted_2 - y_shifted_2.mean())).sum() / len(y_shifted_2)\n",
    "w2"
   ]
  },
  {
   "cell_type": "markdown",
   "id": "db997bf6",
   "metadata": {},
   "source": [
    "Calcul de a et b"
   ]
  },
  {
   "cell_type": "code",
   "execution_count": 156,
   "id": "27a1fa5d",
   "metadata": {},
   "outputs": [
    {
     "name": "stdout",
     "output_type": "stream",
     "text": [
      "a :  0.5962235344486349\n",
      "b :  0.8859194912700463\n"
     ]
    }
   ],
   "source": [
    "a = w2/w1\n",
    "b = w1 /np.sqrt(w2)\n",
    "print(\"a : \" , a)\n",
    "print(\"b : \" , b)"
   ]
  },
  {
   "cell_type": "markdown",
   "id": "663dc653",
   "metadata": {},
   "source": [
    "### 2) Filtre de Kalman"
   ]
  },
  {
   "cell_type": "markdown",
   "id": "3ec0af47",
   "metadata": {},
   "source": [
    "#### 2.1) Calcul de la première position (initialisation)"
   ]
  },
  {
   "cell_type": "code",
   "execution_count": 223,
   "id": "3ee95d11",
   "metadata": {},
   "outputs": [
    {
     "data": {
      "text/plain": [
       "([0.04618364913740982], [0.21514665498782237])"
      ]
     },
     "execution_count": 223,
     "metadata": {},
     "output_type": "execute_result"
    }
   ],
   "source": [
    "x = [b * Y[0]]\n",
    "sigma = [1 - b**2]\n",
    "x, sigma"
   ]
  },
  {
   "cell_type": "markdown",
   "id": "f79683f6",
   "metadata": {},
   "source": [
    "#### 2.2)  Calcul récursif (hérédité)"
   ]
  },
  {
   "cell_type": "code",
   "execution_count": 194,
   "id": "895f51df",
   "metadata": {},
   "outputs": [],
   "source": [
    "t = 0"
   ]
  },
  {
   "cell_type": "code",
   "execution_count": 195,
   "id": "f6ca0ef0",
   "metadata": {},
   "outputs": [],
   "source": [
    "# Etape 1\n",
    "sigma_temp = 1 - a**2 + a**2 * sigma[-1]\n",
    "x_temp = a * x[-1]\n",
    "# sigma_temp, x_temp"
   ]
  },
  {
   "cell_type": "code",
   "execution_count": 196,
   "id": "086b580a",
   "metadata": {},
   "outputs": [
    {
     "data": {
      "text/plain": [
       "(2.560537870158251, 0.8538931627301819)"
      ]
     },
     "execution_count": 196,
     "metadata": {},
     "output_type": "execute_result"
    }
   ],
   "source": [
    "# Etape 2\n",
    "y_temp = Y[t+1] - b * x_temp\n",
    "S = b * sigma_temp + 1 - b**2\n",
    "y_temp, S"
   ]
  },
  {
   "cell_type": "code",
   "execution_count": 197,
   "id": "aa6efaba",
   "metadata": {},
   "outputs": [
    {
     "data": {
      "text/plain": [
       "0.748040311858305"
      ]
     },
     "execution_count": 197,
     "metadata": {},
     "output_type": "execute_result"
    }
   ],
   "source": [
    "# Etape 3\n",
    "K = b / S * sigma_temp\n",
    "K"
   ]
  },
  {
   "cell_type": "code",
   "execution_count": 198,
   "id": "94eb4c24",
   "metadata": {},
   "outputs": [
    {
     "data": {
      "text/plain": [
       "(1.9429213254406201, 0.24319023155327346)"
      ]
     },
     "execution_count": 198,
     "metadata": {},
     "output_type": "execute_result"
    }
   ],
   "source": [
    "# Etape 4\n",
    "x_new = x_temp + K * y_temp\n",
    "sigma_new = (1 - b * K) * sigma_temp\n",
    "x_new, sigma_new"
   ]
  },
  {
   "cell_type": "code",
   "execution_count": 266,
   "id": "f675715d",
   "metadata": {},
   "outputs": [],
   "source": [
    "def iter_Kalman(x, sigma, Y, a, b):\n",
    "    \"\"\"\n",
    "    Renvoie deux nouvelles listes x_new et sigma_new contenant une itération de plus pour la restauration de x\n",
    "    \n",
    "    Args :\n",
    "        - x et sigma sont des listes qui contiennent les valeurs calculées pour la loi restaurée (leur longueur est l'étape en cours)\n",
    "        - Y le signal observé\n",
    "        - a et b deux paramètres calculés grâce à Y (fixés)\n",
    "    \"\"\"\n",
    "    t = len(x)-1\n",
    "    \n",
    "    # Etape 1\n",
    "    sigma_temp = 1 - a**2 + a**2 * sigma[-1]\n",
    "    x_temp = a * x[-1]\n",
    "    \n",
    "    # Etape 2\n",
    "    y_temp = Y[t+1] - b * x_temp\n",
    "    S = b**2 * sigma_temp + 1 - b**2\n",
    "    \n",
    "    # Etape 3\n",
    "    K = b / S * sigma_temp\n",
    "    \n",
    "    # Etape 4\n",
    "    x_new = x_temp + K * y_temp\n",
    "    sigma_new = (1 - b * K) * sigma_temp\n",
    "    \n",
    "    # Actualisation de la liste avec la nouvelle valeur\n",
    "    res_x = x.copy()\n",
    "    res_x.append(x_new)\n",
    "    res_y = sigma.copy()\n",
    "    res_y.append(sigma_new)\n",
    "    \n",
    "    return res_x, res_y "
   ]
  },
  {
   "cell_type": "code",
   "execution_count": 267,
   "id": "f8324d94",
   "metadata": {},
   "outputs": [],
   "source": [
    "def Kalman(Y, a, b):\n",
    "    x = [b * Y[0]]\n",
    "    sigma = [1 - b**2]\n",
    "    \n",
    "    for i in range(len(Y)-1):\n",
    "        x, sigma = iter_Kalman(x, sigma, Y, a, b)\n",
    "    \n",
    "    return x, sigma"
   ]
  },
  {
   "cell_type": "code",
   "execution_count": 268,
   "id": "23aa5f9a",
   "metadata": {},
   "outputs": [],
   "source": [
    "x, sigma = Kalman(Y, a, b)"
   ]
  },
  {
   "cell_type": "markdown",
   "id": "fd25661a",
   "metadata": {},
   "source": [
    "### 3) Evaluation du filtre de Kalman"
   ]
  },
  {
   "cell_type": "code",
   "execution_count": 269,
   "id": "a632041a",
   "metadata": {},
   "outputs": [],
   "source": [
    "def EQM(x, y):\n",
    "    \"\"\"\n",
    "    Revoie l'erreur quadratique moyenne entre deux vecteurs x et y de dimension 1 et de même taille\n",
    "    \"\"\"\n",
    "    if len(x)!= len(y):\n",
    "        raise ValueError(\"x et y n'ont pas la même taille\")\n",
    "    \n",
    "    T = len(x)\n",
    "    s = 0\n",
    "    for i in range(T):\n",
    "        s += (x[i]-y[i])**2\n",
    "    return s / T"
   ]
  },
  {
   "cell_type": "code",
   "execution_count": 270,
   "id": "96cb58e9",
   "metadata": {},
   "outputs": [
    {
     "data": {
      "text/plain": [
       "0.17449618163934927"
      ]
     },
     "execution_count": 270,
     "metadata": {},
     "output_type": "execute_result"
    }
   ],
   "source": [
    "EQM(x, X)"
   ]
  },
  {
   "cell_type": "code",
   "execution_count": 271,
   "id": "79dd8326",
   "metadata": {},
   "outputs": [
    {
     "data": {
      "text/plain": [
       "0.20225719834189304"
      ]
     },
     "execution_count": 271,
     "metadata": {},
     "output_type": "execute_result"
    }
   ],
   "source": [
    "EQM(Y, X)"
   ]
  },
  {
   "cell_type": "markdown",
   "id": "c4135fd3",
   "metadata": {},
   "source": [
    "Le signal restauré est plus proche du signal réel (au sens de l'EQM) que le signal observé, le filtrage fonctionne !"
   ]
  },
  {
   "cell_type": "markdown",
   "id": "f1454553",
   "metadata": {},
   "source": [
    "### 4) Affichage graphique"
   ]
  },
  {
   "cell_type": "code",
   "execution_count": 272,
   "id": "dbab104b",
   "metadata": {},
   "outputs": [
    {
     "data": {
      "text/plain": [
       "Text(0, 0.5, 'Altitude')"
      ]
     },
     "execution_count": 272,
     "metadata": {},
     "output_type": "execute_result"
    },
    {
     "data": {
      "image/png": "[encoded data removed]",
      "text/plain": [
       "<Figure size 1280x480 with 1 Axes>"
      ]
     },
     "metadata": {
      "needs_background": "light"
     },
     "output_type": "display_data"
    }
   ],
   "source": [
    "plt.figure(figsize=(16, 6), dpi=80)\n",
    "plt.plot(X[:100], label = 'X')\n",
    "plt.plot(Y[:100], label = 'Y')\n",
    "plt.plot(x[:100], label = 'x restauré')\n",
    "plt.legend()\n",
    "plt.title(\"Signal réel, observé et amélioré par filtre de Kalman\")\n",
    "plt.xlabel(\"Observation\")\n",
    "plt.ylabel(\"Altitude\")"
   ]
  }
 ],
 "metadata": {
  "kernelspec": {
   "display_name": "Python [conda env:envIA702]",
   "language": "python",
   "name": "conda-env-envIA702-py"
  },
  "language_info": {
   "codemirror_mode": {
    "name": "ipython",
    "version": 3
   },
   "file_extension": ".py",
   "mimetype": "text/x-python",
   "name": "python",
   "nbconvert_exporter": "python",
   "pygments_lexer": "ipython3",
   "version": "3.8.5"
  }
 },
 "nbformat": 4,
 "nbformat_minor": 5
}
