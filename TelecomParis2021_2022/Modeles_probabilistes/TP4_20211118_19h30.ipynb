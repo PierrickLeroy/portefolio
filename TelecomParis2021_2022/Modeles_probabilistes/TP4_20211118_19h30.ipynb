{
 "cells": [
  {
   "cell_type": "markdown",
   "id": "b7995912",
   "metadata": {},
   "source": [
    "# Résumé du TP\n",
    "\n",
    "**Fonction softmax** : dans un problème de classification multiclasse, permet de transformer un score de prédiction pour chaque classe en une valeur de probabilité, normalisée par rapport à tous les scores\n",
    "\n",
    "**Régression logistique** : prédiction des probabilités de classes avec une taille d'entrée fixée et 2 vecteurs de paramètres\n",
    "\n",
    "**Descente de gradient** avec **Pytorch** pour optimisation des paramètres de la régression\n",
    "\n",
    "**Maximum entropy Markov Model** : modèle séquentiel uniquement forward, ici appliqué au POS tagging et combiné avec des régressions logistiques\n",
    "\n",
    "Objets manipulés : \n",
    "- image de chiffres écrits à la main convertis en vecteurs\n",
    "- mots convertis en vecteurs de dim 100 (word embedding) avec l'algorithme Glove"
   ]
  },
  {
   "cell_type": "markdown",
   "id": "e8e87626",
   "metadata": {},
   "source": [
    "### Imports initiaux"
   ]
  },
  {
   "cell_type": "code",
   "execution_count": 1,
   "id": "9f76a4c4",
   "metadata": {},
   "outputs": [],
   "source": [
    "import numpy as np\n",
    "import pandas as pd\n",
    "import torch\n",
    "import torchvision\n",
    "import matplotlib.pyplot as plt\n",
    "from torch import optim\n",
    "import random\n",
    "from sklearn.preprocessing import OneHotEncoder"
   ]
  },
  {
   "cell_type": "markdown",
   "id": "d3aa6069",
   "metadata": {},
   "source": [
    "# Exercice 1 : La fonction softmax"
   ]
  },
  {
   "cell_type": "code",
   "execution_count": 2,
   "id": "22c6a800",
   "metadata": {},
   "outputs": [],
   "source": [
    "def softmax(x):\n",
    "    \"\"\"\n",
    "    Renvoie la valeur de softmax(x) calculée de manière optimisée\n",
    "    \n",
    "    Args : x est un tenseur\n",
    "    \"\"\"\n",
    "    a = torch.exp(x - torch.max(x))\n",
    "    b = torch.sum(a)\n",
    "    return a/b"
   ]
  },
  {
   "cell_type": "code",
   "execution_count": 3,
   "id": "1a610149",
   "metadata": {},
   "outputs": [
    {
     "name": "stdout",
     "output_type": "stream",
     "text": [
      "x : tensor([ 5.,  1.,  2., -1.]) \n",
      "softmax(x) : tensor([0.9341, 0.0171, 0.0465, 0.0023])\n"
     ]
    }
   ],
   "source": [
    "# Vérification sur l'exemple\n",
    "x = torch.tensor([5., 1., 2., -1.])\n",
    "print('x :', x,'\\nsoftmax(x) :', softmax(x))"
   ]
  },
  {
   "cell_type": "code",
   "execution_count": 4,
   "id": "fdf82437",
   "metadata": {},
   "outputs": [
    {
     "name": "stdout",
     "output_type": "stream",
     "text": [
      "30.3 µs ± 3.98 µs per loop (mean ± std. dev. of 7 runs, 10000 loops each)\n"
     ]
    },
    {
     "name": "stderr",
     "output_type": "stream",
     "text": [
      "<magic-timeit>:1: UserWarning: Implicit dimension choice for softmax has been deprecated. Change the call to include dim=X as an argument.\n"
     ]
    },
    {
     "name": "stdout",
     "output_type": "stream",
     "text": [
      "41.9 µs ± 4.09 µs per loop (mean ± std. dev. of 7 runs, 10000 loops each)\n"
     ]
    }
   ],
   "source": [
    "# Comparaison des vitesses d'exécution\n",
    "%timeit softmax(x)\n",
    "%timeit torch.nn.Softmax()(x)"
   ]
  },
  {
   "cell_type": "markdown",
   "id": "2d97483c",
   "metadata": {},
   "source": [
    "# Exercice 2"
   ]
  },
  {
   "cell_type": "markdown",
   "id": "8cd2add1",
   "metadata": {},
   "source": [
    "##### Preprocessing"
   ]
  },
  {
   "cell_type": "code",
   "execution_count": 5,
   "id": "e9234d14",
   "metadata": {},
   "outputs": [],
   "source": [
    "dataset = torchvision.datasets.MNIST(\"./\", download = True)\n",
    "train_set_y, train_set_x = dataset.data[:50000], dataset.targets[:50000]\n",
    "test_set_y, test_set_x = dataset.data[50000:], dataset.targets[50000:]"
   ]
  },
  {
   "cell_type": "code",
   "execution_count": 6,
   "id": "176f7e6a",
   "metadata": {},
   "outputs": [],
   "source": [
    "train_set_y = (train_set_y.view(50000, -1) + 0.0)\n",
    "mean_train, std_train = torch.mean(train_set_y), torch.std(train_set_y)\n",
    "train_set_y = (train_set_y - mean_train)/std_train\n",
    "train_set = []\n",
    "for i in range(50000):\n",
    "    train_set.append([train_set_x[i], train_set_y[i]])\n",
    "    \n",
    "test_set_y = (test_set_y.view(10000, -1) + 0.0)\n",
    "mean_test, std_test = torch.mean(test_set_y), torch.std(test_set_y)\n",
    "test_set_y = (test_set_y - mean_test)/std_test\n",
    "test_set = []\n",
    "for i in range(10000):\n",
    "    test_set.append([test_set_x[i], test_set_y[i]])"
   ]
  },
  {
   "cell_type": "code",
   "execution_count": 7,
   "id": "bd1a0421",
   "metadata": {},
   "outputs": [
    {
     "data": {
      "image/png": "[encoded data removed]",
      "text/plain": [
       "<Figure size 432x288 with 1 Axes>"
      ]
     },
     "metadata": {
      "needs_background": "light"
     },
     "output_type": "display_data"
    },
    {
     "name": "stdout",
     "output_type": "stream",
     "text": [
      "tensor(0)\n"
     ]
    }
   ],
   "source": [
    "# Visualisation sur un exemple\n",
    "exemple = 1\n",
    "plt.imshow(train_set[exemple][1].view(28, 28))\n",
    "plt.show()\n",
    "print(train_set[exemple][0])"
   ]
  },
  {
   "cell_type": "markdown",
   "id": "cbdf80e3",
   "metadata": {},
   "source": [
    "### Régression logistique"
   ]
  },
  {
   "cell_type": "code",
   "execution_count": 8,
   "id": "c48cb80f",
   "metadata": {},
   "outputs": [],
   "source": [
    "# Initialisation des paramètres de la régression logistique : W et b\n",
    "\n",
    "path = r\"C:\\Users\\Pierrick\\OneDrive\\Bureau\\K\\2_MS_TelecomParis\\Cours\\IA702 - Modèles probabilistes et apprentissage automatique\\Cours_4\\TP4\\TP4 functions-20211027\"\n",
    "W_lr = torch.load(path + \"\\TP4_functions\\W_lr.pt\").requires_grad_(True)\n",
    "b_lr = torch.load(path + \"\\TP4_functions/b_lr.pt\").requires_grad_(True)"
   ]
  },
  {
   "cell_type": "code",
   "execution_count": 9,
   "id": "c6ee4b63",
   "metadata": {},
   "outputs": [],
   "source": [
    "def g(y, W, b):\n",
    "    \"\"\"\n",
    "    Renvoie la prédiction et sa probabilité pour la classe x, en ayant observé l'observation y sous les paramètres W et b\n",
    "    \n",
    "    Returns : float\n",
    "    \n",
    "    Args:\n",
    "        - y un tenseur, les features extraites de l'écriture manuelle pour l'observation y\n",
    "        - W (tenseur): le vecteur des poids (=coefficients) à appliquer à chaque feature de y // Les poids dépendent de la classe -> extraire W_x de W \n",
    "        - b : un paramètre ne dépendant que la classe de x -> extraire b_x\n",
    "  \"\"\"\n",
    "    p_x = softmax(y@(W_lr.T) + b_lr)\n",
    "    pred = torch.argmax(p_x)\n",
    "    return p_x, pred, float(p_x[pred])"
   ]
  },
  {
   "cell_type": "code",
   "execution_count": 10,
   "id": "6c8779a7",
   "metadata": {},
   "outputs": [],
   "source": [
    "def L(g, D, W, b):\n",
    "    N = len(D)\n",
    "    s = 0\n",
    "    for x, y in D:\n",
    "        truePred_proba = g(y, W, b)[0][x]\n",
    "        s += torch.log(truePred_proba)\n",
    "    return - 1 / N * s"
   ]
  },
  {
   "cell_type": "code",
   "execution_count": 11,
   "id": "8f09bd23",
   "metadata": {
    "scrolled": true
   },
   "outputs": [
    {
     "data": {
      "text/plain": [
       "tensor(2.4652, grad_fn=<MulBackward0>)"
      ]
     },
     "execution_count": 11,
     "metadata": {},
     "output_type": "execute_result"
    }
   ],
   "source": [
    "L(g, train_set[:100], W_lr, b_lr)"
   ]
  },
  {
   "cell_type": "code",
   "execution_count": 3,
   "id": "5dec2bc9",
   "metadata": {},
   "outputs": [],
   "source": [
    "def minibatch(D, n=256):\n",
    "    return random.sample(D, n)"
   ]
  },
  {
   "cell_type": "code",
   "execution_count": 13,
   "id": "bad617a5",
   "metadata": {
    "scrolled": false
   },
   "outputs": [
    {
     "name": "stdout",
     "output_type": "stream",
     "text": [
      "0\n",
      "Loss: tensor(2.4362)\n",
      "50\n",
      "Loss: tensor(2.1019)\n",
      "100\n",
      "Loss: tensor(1.7814)\n",
      "150\n",
      "Loss: tensor(1.5160)\n",
      "200\n",
      "Loss: tensor(1.4399)\n",
      "250\n",
      "Loss: tensor(1.2482)\n",
      "300\n",
      "Loss: tensor(1.1603)\n",
      "350\n",
      "Loss: tensor(1.0740)\n",
      "400\n",
      "Loss: tensor(0.9290)\n",
      "450\n",
      "Loss: tensor(0.8863)\n",
      "500\n",
      "Loss: tensor(0.8276)\n",
      "550\n",
      "Loss: tensor(0.8324)\n",
      "600\n",
      "Loss: tensor(0.7770)\n",
      "650\n",
      "Loss: tensor(0.7346)\n",
      "700\n",
      "Loss: tensor(0.7367)\n",
      "750\n",
      "Loss: tensor(0.7309)\n",
      "800\n",
      "Loss: tensor(0.6803)\n",
      "850\n",
      "Loss: tensor(0.6422)\n",
      "900\n",
      "Loss: tensor(0.6208)\n",
      "950\n",
      "Loss: tensor(0.5827)\n"
     ]
    },
    {
     "data": {
      "image/png": "[encoded data removed]",
      "text/plain": [
       "<Figure size 432x288 with 1 Axes>"
      ]
     },
     "metadata": {
      "needs_background": "light"
     },
     "output_type": "display_data"
    },
    {
     "name": "stdout",
     "output_type": "stream",
     "text": [
      "theta tensor([[ 0.0382, -0.0210, -0.0118,  ...,  0.0292,  0.0393, -0.0289],\n",
      "        [ 0.0077, -0.0342, -0.0224,  ...,  0.0066,  0.0153,  0.0121],\n",
      "        [ 0.0172,  0.0266,  0.0103,  ...,  0.0257,  0.0182,  0.0210],\n",
      "        ...,\n",
      "        [-0.0214,  0.0120,  0.0293,  ..., -0.0325,  0.0174,  0.0050],\n",
      "        [ 0.0325,  0.0002,  0.0016,  ...,  0.0107, -0.0122, -0.0236],\n",
      "        [-0.0050,  0.0358,  0.0016,  ...,  0.0129,  0.0373, -0.0333]],\n",
      "       requires_grad=True) tensor([ 0.0078, -0.0141,  0.0171, -0.0376,  0.0297, -0.0038, -0.0216,  0.0035,\n",
      "        -0.0246,  0.0075], requires_grad=True) \n",
      "\n"
     ]
    }
   ],
   "source": [
    "alpha = 5e-5\n",
    "\n",
    "K = 1000\n",
    "\n",
    "list_L = torch.zeros(K)\n",
    "optimizer = optim.Adam([W_lr, b_lr], lr=alpha)\n",
    "\n",
    "\n",
    "for k in range(K):\n",
    "    optimizer.zero_grad()\n",
    "    loss = L(g, minibatch(train_set), W_lr, b_lr)\n",
    "    loss.backward()\n",
    "    optimizer.step()\n",
    "    list_L[k] = loss.item()\n",
    "    if k % 50 == 0:\n",
    "        print(k)\n",
    "        print(\"Loss:\", list_L[k])\n",
    "#         print(\"theta\", W_lr, b_lr, \"\\n\")\n",
    "plt.plot(list_L)\n",
    "plt.show()\n",
    "print(\"theta\", W_lr, b_lr, \"\\n\")"
   ]
  },
  {
   "cell_type": "code",
   "execution_count": 14,
   "id": "a054ea00",
   "metadata": {},
   "outputs": [],
   "source": [
    "l_pred = []\n",
    "for y in test_set_y:\n",
    "    l_pred.append(g(y, W_lr, b_lr)[1])"
   ]
  },
  {
   "cell_type": "code",
   "execution_count": 15,
   "id": "124abce7",
   "metadata": {},
   "outputs": [
    {
     "name": "stdout",
     "output_type": "stream",
     "text": [
      "Score de classification sur le test_set :  87.94 %\n"
     ]
    }
   ],
   "source": [
    "print('Score de classification sur le test_set : ', round(float((torch.tensor(l_pred) == test_set_x).sum()/len(test_set_x))*100,2) , '%')"
   ]
  },
  {
   "cell_type": "markdown",
   "id": "7081d7c4",
   "metadata": {},
   "source": [
    "# Exercice 3 : Maximum Entropy Markov Model pour le POS tagging"
   ]
  },
  {
   "cell_type": "markdown",
   "id": "a49848c6",
   "metadata": {},
   "source": [
    "##### Import"
   ]
  },
  {
   "cell_type": "code",
   "execution_count": 4,
   "id": "900fd9af",
   "metadata": {},
   "outputs": [],
   "source": [
    "from TP4_functions.load_conll2000 import load_conll2000_glove\n",
    "path = \"TP4_functions/\"\n",
    "Omega_X, train_set, test_set = load_conll2000_glove(path)\n",
    "y_train_set = [pair[1] for pair in train_set]"
   ]
  },
  {
   "cell_type": "code",
   "execution_count": 5,
   "id": "76f44554",
   "metadata": {},
   "outputs": [],
   "source": [
    "W_lr1 = torch.load(\"TP4_functions/W_lr1.pt\").requires_grad_(True)\n",
    "b_lr1 = torch.load(\"TP4_functions/b_lr1.pt\").requires_grad_(True)\n",
    "W_lr2 = torch.load(\"TP4_functions/W_lr2.pt\").requires_grad_(True)\n",
    "b_lr2 = torch.load(\"TP4_functions/b_lr2.pt\").requires_grad_(True)"
   ]
  },
  {
   "cell_type": "markdown",
   "id": "bb071c2d",
   "metadata": {},
   "source": [
    "#### Définition des fonctions auxiliaires"
   ]
  },
  {
   "cell_type": "code",
   "execution_count": 6,
   "id": "9a7a5cc4",
   "metadata": {},
   "outputs": [],
   "source": [
    "def encoding(x):\n",
    "    \"\"\"\n",
    "    Transforme x ('NOUN', 'ADJ') en tenseur par one hot encoding\n",
    "    \"\"\"\n",
    "    res = torch.zeros(len(Omega_X))\n",
    "    res[Omega_X.index(x)] = 1\n",
    "    return res\n",
    "\n",
    "d_encoding = {}\n",
    "for x in Omega_X:\n",
    "    d_encoding[x] = encoding(x)\n",
    "d_encoding\n",
    "\n",
    "def faster_encoding(x):\n",
    "    return d_encoding[x]\n",
    "\n",
    "\n",
    "card_Omega_X = len(Omega_X)\n",
    "\n",
    "l=[]\n",
    "for lambda_x in Omega_X:\n",
    "    l.append(encoding(lambda_x))\n",
    "\n",
    "Omega_X_encoded = torch.stack(l)\n",
    "\n",
    "\n",
    "d_tagToCode = d_encoding.copy()\n",
    "for key in d_tagToCode.keys():\n",
    "    d_tagToCode[key] = (d_tagToCode[key] == 1).nonzero().item()\n",
    "    \n",
    "def tagToCode(tag):\n",
    "    return d_tagToCode[tag]"
   ]
  },
  {
   "cell_type": "markdown",
   "id": "8780c20d",
   "metadata": {},
   "source": [
    "#### Fonctions de régression, de coût et MEMM"
   ]
  },
  {
   "cell_type": "code",
   "execution_count": 7,
   "id": "45e3e49e",
   "metadata": {},
   "outputs": [],
   "source": [
    "# Fonction de régression logistique\n",
    "def g(y, W, b):\n",
    "    return softmax(y@(W.T) + b)"
   ]
  },
  {
   "cell_type": "code",
   "execution_count": 8,
   "id": "b114d432",
   "metadata": {},
   "outputs": [],
   "source": [
    "# Fonction permettant de trouver récursivement le alpha t+1\n",
    "def find_next_alpha(alpha, g, W_lr2, b_lr2, word):\n",
    "    \n",
    "    res = torch.zeros(card_Omega_X)\n",
    "    for j in range(card_Omega_X):\n",
    "        v = torch.cat((word, Omega_X_encoded[j]))\n",
    "        res += alpha[j] * g(v, W_lr2, b_lr2)\n",
    "    return res"
   ]
  },
  {
   "cell_type": "code",
   "execution_count": 9,
   "id": "b2dcd966",
   "metadata": {},
   "outputs": [],
   "source": [
    "# Fonction MEMM\n",
    "def MEMM(sentence, W_lr1, b_lr1, W_lr2, b_lr2):\n",
    "    \n",
    "    # Initialisation avec L1\n",
    "    l_alpha = []\n",
    "    l_alpha.append(g(sentence[0], W_lr1, b_lr1))\n",
    "    \n",
    "    # Récursion\n",
    "    for word in sentence[1:]:\n",
    "        l_alpha.append(find_next_alpha(l_alpha[-1], g, W_lr2, b_lr2, word))\n",
    "    return l_alpha"
   ]
  },
  {
   "cell_type": "code",
   "execution_count": 10,
   "id": "d91b0a69",
   "metadata": {
    "scrolled": false
   },
   "outputs": [
    {
     "data": {
      "text/plain": [
       "(tensor(2.7412, grad_fn=<DivBackward0>), 0.07547169811320754)"
      ]
     },
     "execution_count": 10,
     "metadata": {},
     "output_type": "execute_result"
    }
   ],
   "source": [
    "# Fonction calculant la loss cross entropy et le score sur le train_set pour\n",
    "# essayer de vérifier qu'il n'y a pas d'overfitting\n",
    "\n",
    "def LCE(MEMM, D, W_lr1, b_lr1, W_lr2, b_lr2):\n",
    "    loss = 0\n",
    "    score = 0\n",
    "    N = 0 # le nombre total de mots\n",
    "    for tags, sentence in D:\n",
    "        n = len(sentence) # le nombre de mots dans sentence\n",
    "        N = N + n\n",
    "        result = list(map(tagToCode, tags))\n",
    "        for alpha, truth in list(zip(MEMM(sentence, W_lr1, b_lr1, W_lr2, b_lr2), result)):\n",
    "            pred = torch.argmax(alpha)\n",
    "            loss += -torch.log(alpha[truth])\n",
    "            if pred == truth:\n",
    "                score += 1\n",
    "    return loss / N, score / N\n",
    "\n",
    "\n",
    "LCE(MEMM, minibatch(train_set, 32), W_lr1, b_lr1, W_lr2, b_lr2)"
   ]
  },
  {
   "cell_type": "markdown",
   "id": "a869849a",
   "metadata": {},
   "source": [
    "#### Affichage de la valeur de la loss sur les 10 premiers exemples du train_set"
   ]
  },
  {
   "cell_type": "code",
   "execution_count": 11,
   "id": "4db6e1dd",
   "metadata": {},
   "outputs": [
    {
     "data": {
      "text/plain": [
       "(tensor(2.7459, grad_fn=<DivBackward0>), 0.08333333333333333)"
      ]
     },
     "execution_count": 11,
     "metadata": {},
     "output_type": "execute_result"
    }
   ],
   "source": [
    "LCE(MEMM, train_set[:10], W_lr1, b_lr1, W_lr2, b_lr2)"
   ]
  },
  {
   "cell_type": "markdown",
   "id": "245f8209",
   "metadata": {},
   "source": [
    "#### Descente de gradient pour l'optimisation des paramètres du MEMM"
   ]
  },
  {
   "cell_type": "code",
   "execution_count": 12,
   "id": "5897da3f",
   "metadata": {},
   "outputs": [
    {
     "name": "stdout",
     "output_type": "stream",
     "text": [
      "0\n",
      "Loss: tensor(2.7307)\n",
      "Loss: tensor(2.7307, grad_fn=<DivBackward0>)\n",
      "Score sur le train_set: 0.0815006468305304\n",
      "Score sur le test_set: 0.09048694514215759\n",
      "50\n",
      "Loss: tensor(2.2780)\n",
      "Loss: tensor(2.2780, grad_fn=<DivBackward0>)\n",
      "Score sur le train_set: 0.35834411384217335\n",
      "Score sur le test_set: 0.3317221436562045\n",
      "100\n",
      "Loss: tensor(2.0255)\n",
      "Loss: tensor(2.0255, grad_fn=<DivBackward0>)\n",
      "Score sur le train_set: 0.4675324675324675\n",
      "Score sur le test_set: 0.46600671211769423\n",
      "150\n",
      "Loss: tensor(1.8205)\n",
      "Loss: tensor(1.8205, grad_fn=<DivBackward0>)\n",
      "Score sur le train_set: 0.543010752688172\n",
      "Score sur le test_set: 0.5281465690102792\n",
      "200\n",
      "Loss: tensor(1.6122)\n",
      "Loss: tensor(1.6122, grad_fn=<DivBackward0>)\n",
      "Score sur le train_set: 0.6075581395348837\n",
      "Score sur le test_set: 0.564324461236465\n",
      "250\n",
      "Loss: tensor(1.5368)\n",
      "Loss: tensor(1.5368, grad_fn=<DivBackward0>)\n",
      "Score sur le train_set: 0.595873786407767\n",
      "Score sur le test_set: 0.598518268358064\n",
      "300\n",
      "Loss: tensor(1.4249)\n",
      "Loss: tensor(1.4249, grad_fn=<DivBackward0>)\n",
      "Score sur le train_set: 0.6448598130841121\n",
      "Score sur le test_set: 0.6483525761445427\n",
      "350\n",
      "Loss: tensor(1.3421)\n",
      "Loss: tensor(1.3421, grad_fn=<DivBackward0>)\n",
      "Score sur le train_set: 0.650200267022697\n",
      "Score sur le test_set: 0.6615657386495557\n",
      "400\n",
      "Loss: tensor(1.2248)\n",
      "Loss: tensor(1.2248, grad_fn=<DivBackward0>)\n",
      "Score sur le train_set: 0.6992481203007519\n",
      "Score sur le test_set: 0.6808789074867552\n",
      "450\n",
      "Loss: tensor(1.2029)\n",
      "Loss: tensor(1.2029, grad_fn=<DivBackward0>)\n",
      "Score sur le train_set: 0.6909547738693468\n",
      "Score sur le test_set: 0.6936066023597949\n",
      "500\n",
      "Loss: tensor(1.1538)\n",
      "Loss: tensor(1.1538, grad_fn=<DivBackward0>)\n",
      "Score sur le train_set: 0.6915544675642595\n",
      "Score sur le test_set: 0.7050467526436879\n",
      "550\n",
      "Loss: tensor(1.0396)\n",
      "Loss: tensor(1.0396, grad_fn=<DivBackward0>)\n",
      "Score sur le train_set: 0.7502890173410405\n",
      "Score sur le test_set: 0.7232623424868607\n",
      "600\n",
      "Loss: tensor(1.0245)\n",
      "Loss: tensor(1.0245, grad_fn=<DivBackward0>)\n",
      "Score sur le train_set: 0.7432624113475177\n",
      "Score sur le test_set: 0.7299744601811006\n",
      "650\n",
      "Loss: tensor(0.9614)\n",
      "Loss: tensor(0.9614, grad_fn=<DivBackward0>)\n",
      "Score sur le train_set: 0.7488226059654631\n",
      "Score sur le test_set: 0.7400215294341136\n",
      "700\n",
      "Loss: tensor(1.0073)\n",
      "Loss: tensor(1.0073, grad_fn=<DivBackward0>)\n",
      "Score sur le train_set: 0.7322540473225405\n",
      "Score sur le test_set: 0.7471557928952868\n",
      "750\n",
      "Loss: tensor(0.9204)\n",
      "Loss: tensor(0.9204, grad_fn=<DivBackward0>)\n",
      "Score sur le train_set: 0.7738896366083445\n",
      "Score sur le test_set: 0.7527492243071533\n",
      "800\n",
      "Loss: tensor(0.9050)\n",
      "Loss: tensor(0.9050, grad_fn=<DivBackward0>)\n",
      "Score sur le train_set: 0.7478787878787879\n",
      "Score sur le test_set: 0.7580893682588598\n",
      "850\n",
      "Loss: tensor(0.8475)\n",
      "Loss: tensor(0.8475, grad_fn=<DivBackward0>)\n",
      "Score sur le train_set: 0.7792592592592592\n",
      "Score sur le test_set: 0.7629651518669397\n",
      "900\n",
      "Loss: tensor(0.8925)\n",
      "Loss: tensor(0.8925, grad_fn=<DivBackward0>)\n",
      "Score sur le train_set: 0.7608695652173914\n",
      "Score sur le test_set: 0.7689385144690462\n",
      "950\n",
      "Loss: tensor(0.8148)\n",
      "Loss: tensor(0.8148, grad_fn=<DivBackward0>)\n",
      "Score sur le train_set: 0.7744630071599046\n",
      "Score sur le test_set: 0.7723156806045127\n"
     ]
    },
    {
     "data": {
      "image/png": "[encoded data removed]",
      "text/plain": [
       "<Figure size 432x288 with 1 Axes>"
      ]
     },
     "metadata": {
      "needs_background": "light"
     },
     "output_type": "display_data"
    }
   ],
   "source": [
    "learning_rate = 5e-4\n",
    "\n",
    "K = 1000\n",
    "\n",
    "list_L = torch.zeros(K)\n",
    "optimizer = optim.Adam([W_lr1, b_lr1, W_lr2, b_lr2], lr=learning_rate)\n",
    "\n",
    "\n",
    "for k in range(K):\n",
    "    optimizer.zero_grad()\n",
    "    loss, score_train = LCE(MEMM, minibatch(train_set, 32), W_lr1, b_lr1, W_lr2, b_lr2)\n",
    "    loss.backward()\n",
    "    optimizer.step()\n",
    "    list_L[k] = loss.item()\n",
    "    if k % 50 == 0:\n",
    "        print(k)\n",
    "        print(\"Loss:\", list_L[k])\n",
    "        print(\"Loss:\", loss)\n",
    "        print(\"Score sur le train_set:\", score_train)\n",
    "        \n",
    "        # Calcul du score sur le test_set\n",
    "        score_test = 0 \n",
    "        N = 0\n",
    "        for tags, sentence in test_set:\n",
    "            N += len(sentence)\n",
    "            result = list(map(tagToCode, tags))\n",
    "            for alpha, truth in list(zip(MEMM(sentence, W_lr1, b_lr1, W_lr2, b_lr2), result)):\n",
    "                pred = torch.argmax(alpha)\n",
    "                if pred == truth:\n",
    "                    score_test += 1\n",
    "        score_test = score_test/N\n",
    "        print(\"Score sur le test_set:\", score_test)\n",
    "\n",
    "plt.plot(list_L)\n",
    "plt.show()"
   ]
  },
  {
   "cell_type": "markdown",
   "id": "4b91eae3",
   "metadata": {},
   "source": [
    "# Conclusion\n",
    "\n",
    "**Le score sur le test_set est de 77%.**\n",
    "Il ne semble pas y avoir d'overfit car les score sont quasiment identiques sur le test_set et le train_set (peut-être pas utile de le vérifier car repose sur des régressions donc jamais d'overfit sauf en grande dimension ?)\n",
    "\n",
    "A améliorer : optimiser la vitesse d'exécution du code en estimant systématiquement le temps consommé par chaque partie du code car la descente de gradient a été très longue (de l'ordre d'une heure)"
   ]
  }
 ],
 "metadata": {
  "kernelspec": {
   "display_name": "Python [conda env:envIA702]",
   "language": "python",
   "name": "conda-env-envIA702-py"
  },
  "language_info": {
   "codemirror_mode": {
    "name": "ipython",
    "version": 3
   },
   "file_extension": ".py",
   "mimetype": "text/x-python",
   "name": "python",
   "nbconvert_exporter": "python",
   "pygments_lexer": "ipython3",
   "version": "3.8.5"
  }
 },
 "nbformat": 4,
 "nbformat_minor": 5
}
